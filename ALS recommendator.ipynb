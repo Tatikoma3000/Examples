{
 "cells": [
  {
   "cell_type": "markdown",
   "id": "34f9a8c3",
   "metadata": {},
   "source": [
    "### Разработка двухуровненой модели рекомендательной системы (ALS)\n",
    "##### Для отработки скрипта необходимо прописать путь к библиотеке src, а также пути к исходным csv - файлам\n",
    "Для работы скрипта использовалась библиотека implicit 0.4.7"
   ]
  },
  {
   "cell_type": "code",
   "execution_count": 1,
   "id": "d503817d",
   "metadata": {},
   "outputs": [],
   "source": [
    "import pandas as pd\n",
    "from src.recommenders import MainRecommender\n",
    "from src.utils import prefilter_items\n",
    "from src.metrics import recall_at_k, precision_at_k\n",
    "from catboost import CatBoostClassifier\n",
    "from src.metrics import precision_at_k, recall_at_k\n",
    "from matplotlib import pyplot as plt\n",
    "import seaborn as sns"
   ]
  },
  {
   "cell_type": "markdown",
   "id": "acf2ed4e",
   "metadata": {},
   "source": [
    "#### Импорт исходных файлов:\n",
    "- df_train - обучающий набор данных\n",
    "- df_val - набор данных для валидации"
   ]
  },
  {
   "cell_type": "code",
   "execution_count": 2,
   "id": "317dc770",
   "metadata": {},
   "outputs": [],
   "source": [
    "# Введите абсолютные пути до исходных файлов здесь:\n",
    "df_train = pd.read_csv(r'...\\retail_train.csv')\n",
    "df_val = pd.read_csv(r'...\\retail_test1.csv')"
   ]
  },
  {
   "cell_type": "code",
   "execution_count": 3,
   "id": "8ff53dd6",
   "metadata": {},
   "outputs": [
    {
     "data": {
      "text/html": [
       "<div>\n",
       "<style scoped>\n",
       "    .dataframe tbody tr th:only-of-type {\n",
       "        vertical-align: middle;\n",
       "    }\n",
       "\n",
       "    .dataframe tbody tr th {\n",
       "        vertical-align: top;\n",
       "    }\n",
       "\n",
       "    .dataframe thead th {\n",
       "        text-align: right;\n",
       "    }\n",
       "</style>\n",
       "<table border=\"1\" class=\"dataframe\">\n",
       "  <thead>\n",
       "    <tr style=\"text-align: right;\">\n",
       "      <th></th>\n",
       "      <th>user_id</th>\n",
       "      <th>basket_id</th>\n",
       "      <th>day</th>\n",
       "      <th>item_id</th>\n",
       "      <th>quantity</th>\n",
       "      <th>sales_value</th>\n",
       "      <th>store_id</th>\n",
       "      <th>retail_disc</th>\n",
       "      <th>trans_time</th>\n",
       "      <th>week_no</th>\n",
       "      <th>coupon_disc</th>\n",
       "      <th>coupon_match_disc</th>\n",
       "    </tr>\n",
       "  </thead>\n",
       "  <tbody>\n",
       "    <tr>\n",
       "      <th>0</th>\n",
       "      <td>2375</td>\n",
       "      <td>26984851472</td>\n",
       "      <td>1</td>\n",
       "      <td>1004906</td>\n",
       "      <td>1</td>\n",
       "      <td>1.39</td>\n",
       "      <td>364</td>\n",
       "      <td>-0.6</td>\n",
       "      <td>1631</td>\n",
       "      <td>1</td>\n",
       "      <td>0.0</td>\n",
       "      <td>0.0</td>\n",
       "    </tr>\n",
       "    <tr>\n",
       "      <th>1</th>\n",
       "      <td>2375</td>\n",
       "      <td>26984851472</td>\n",
       "      <td>1</td>\n",
       "      <td>1033142</td>\n",
       "      <td>1</td>\n",
       "      <td>0.82</td>\n",
       "      <td>364</td>\n",
       "      <td>0.0</td>\n",
       "      <td>1631</td>\n",
       "      <td>1</td>\n",
       "      <td>0.0</td>\n",
       "      <td>0.0</td>\n",
       "    </tr>\n",
       "    <tr>\n",
       "      <th>2</th>\n",
       "      <td>2375</td>\n",
       "      <td>26984851472</td>\n",
       "      <td>1</td>\n",
       "      <td>1036325</td>\n",
       "      <td>1</td>\n",
       "      <td>0.99</td>\n",
       "      <td>364</td>\n",
       "      <td>-0.3</td>\n",
       "      <td>1631</td>\n",
       "      <td>1</td>\n",
       "      <td>0.0</td>\n",
       "      <td>0.0</td>\n",
       "    </tr>\n",
       "  </tbody>\n",
       "</table>\n",
       "</div>"
      ],
      "text/plain": [
       "   user_id    basket_id  day  item_id  quantity  sales_value  store_id  \\\n",
       "0     2375  26984851472    1  1004906         1         1.39       364   \n",
       "1     2375  26984851472    1  1033142         1         0.82       364   \n",
       "2     2375  26984851472    1  1036325         1         0.99       364   \n",
       "\n",
       "   retail_disc  trans_time  week_no  coupon_disc  coupon_match_disc  \n",
       "0         -0.6        1631        1          0.0                0.0  \n",
       "1          0.0        1631        1          0.0                0.0  \n",
       "2         -0.3        1631        1          0.0                0.0  "
      ]
     },
     "execution_count": 3,
     "metadata": {},
     "output_type": "execute_result"
    }
   ],
   "source": [
    "'''\n",
    "user_id - кто купил товар,\n",
    "item_id - товар, который купили\n",
    "quantity - количество\n",
    "week_no - номер недели, когда была произведена покупка\n",
    "'''\n",
    "df_train.head(3)"
   ]
  },
  {
   "cell_type": "code",
   "execution_count": 4,
   "id": "9f7f0c45",
   "metadata": {},
   "outputs": [
    {
     "data": {
      "text/html": [
       "<div>\n",
       "<style scoped>\n",
       "    .dataframe tbody tr th:only-of-type {\n",
       "        vertical-align: middle;\n",
       "    }\n",
       "\n",
       "    .dataframe tbody tr th {\n",
       "        vertical-align: top;\n",
       "    }\n",
       "\n",
       "    .dataframe thead th {\n",
       "        text-align: right;\n",
       "    }\n",
       "</style>\n",
       "<table border=\"1\" class=\"dataframe\">\n",
       "  <thead>\n",
       "    <tr style=\"text-align: right;\">\n",
       "      <th></th>\n",
       "      <th>user_id</th>\n",
       "      <th>basket_id</th>\n",
       "      <th>day</th>\n",
       "      <th>item_id</th>\n",
       "      <th>quantity</th>\n",
       "      <th>sales_value</th>\n",
       "      <th>store_id</th>\n",
       "      <th>retail_disc</th>\n",
       "      <th>trans_time</th>\n",
       "      <th>week_no</th>\n",
       "      <th>coupon_disc</th>\n",
       "      <th>coupon_match_disc</th>\n",
       "    </tr>\n",
       "  </thead>\n",
       "  <tbody>\n",
       "    <tr>\n",
       "      <th>0</th>\n",
       "      <td>1340</td>\n",
       "      <td>41652823310</td>\n",
       "      <td>664</td>\n",
       "      <td>912987</td>\n",
       "      <td>1</td>\n",
       "      <td>8.49</td>\n",
       "      <td>446</td>\n",
       "      <td>0.0</td>\n",
       "      <td>52</td>\n",
       "      <td>96</td>\n",
       "      <td>0.0</td>\n",
       "      <td>0.0</td>\n",
       "    </tr>\n",
       "    <tr>\n",
       "      <th>1</th>\n",
       "      <td>588</td>\n",
       "      <td>41652838477</td>\n",
       "      <td>664</td>\n",
       "      <td>1024426</td>\n",
       "      <td>1</td>\n",
       "      <td>6.29</td>\n",
       "      <td>388</td>\n",
       "      <td>0.0</td>\n",
       "      <td>8</td>\n",
       "      <td>96</td>\n",
       "      <td>0.0</td>\n",
       "      <td>0.0</td>\n",
       "    </tr>\n",
       "    <tr>\n",
       "      <th>2</th>\n",
       "      <td>2070</td>\n",
       "      <td>41652857291</td>\n",
       "      <td>664</td>\n",
       "      <td>995242</td>\n",
       "      <td>5</td>\n",
       "      <td>9.10</td>\n",
       "      <td>311</td>\n",
       "      <td>-0.6</td>\n",
       "      <td>46</td>\n",
       "      <td>96</td>\n",
       "      <td>0.0</td>\n",
       "      <td>0.0</td>\n",
       "    </tr>\n",
       "  </tbody>\n",
       "</table>\n",
       "</div>"
      ],
      "text/plain": [
       "   user_id    basket_id  day  item_id  quantity  sales_value  store_id  \\\n",
       "0     1340  41652823310  664   912987         1         8.49       446   \n",
       "1      588  41652838477  664  1024426         1         6.29       388   \n",
       "2     2070  41652857291  664   995242         5         9.10       311   \n",
       "\n",
       "   retail_disc  trans_time  week_no  coupon_disc  coupon_match_disc  \n",
       "0          0.0          52       96          0.0                0.0  \n",
       "1          0.0           8       96          0.0                0.0  \n",
       "2         -0.6          46       96          0.0                0.0  "
      ]
     },
     "execution_count": 4,
     "metadata": {},
     "output_type": "execute_result"
    }
   ],
   "source": [
    "'''\n",
    "описание - аналогично df_train\n",
    "'''\n",
    "df_val.head(3)"
   ]
  },
  {
   "cell_type": "markdown",
   "id": "8d5f00f1",
   "metadata": {},
   "source": [
    "#### Разбиение датасета на обучающую и тестовую выборки. Логика следующая:\n",
    "- Последние 5 недель оставим на тест, остальные 90 недель - на обучение"
   ]
  },
  {
   "cell_type": "code",
   "execution_count": 5,
   "id": "926f2d81",
   "metadata": {},
   "outputs": [],
   "source": [
    "df_test = df_train[df_train['week_no'] > 90]\n",
    "df_train = df_train[df_train['week_no'] <= 90]"
   ]
  },
  {
   "cell_type": "markdown",
   "id": "5af8b707",
   "metadata": {},
   "source": [
    "### Рекомендательная система будет состоять из 2х уровней"
   ]
  },
  {
   "cell_type": "markdown",
   "id": "5491b307",
   "metadata": {},
   "source": [
    "#### Уровень 1. Префильтрация.\n",
    "Убираем из рекомендаций товары, которые уже популярные (их и так купят), а также товары, которые почти никто не покупает. ID таких товаров приравниваем к 999999 (из обучения товары не пропадают)"
   ]
  },
  {
   "cell_type": "code",
   "execution_count": 6,
   "id": "cee33e73",
   "metadata": {},
   "outputs": [
    {
     "name": "stdout",
     "output_type": "stream",
     "text": [
      "До префильтрации было 86343 товаров\n",
      "После префильтрации стало 3001 товаров\n"
     ]
    }
   ],
   "source": [
    "print(f\"До префильтрации было {df_train['item_id'].unique().shape[0]} товаров\")\n",
    "df_train = prefilter_items(df_train, take_n_popular = 3000, popularuty_level=0.2, non_popularity_level=0.02, fake_id = 999999)\n",
    "print(f\"После префильтрации стало {df_train['item_id'].unique().shape[0]} товаров\")"
   ]
  },
  {
   "cell_type": "markdown",
   "id": "584c986e",
   "metadata": {},
   "source": [
    "#### Уровень 2. ALS"
   ]
  },
  {
   "cell_type": "markdown",
   "id": "c8d3df76",
   "metadata": {},
   "source": [
    "Обучим две предсказательные системы - чтобы в дальнейшем выбрать наилучшую"
   ]
  },
  {
   "cell_type": "code",
   "execution_count": 7,
   "id": "f0ac836b",
   "metadata": {},
   "outputs": [
    {
     "name": "stderr",
     "output_type": "stream",
     "text": [
      "WARNING:root:Intel MKL BLAS detected. Its highly recommend to set the environment variable 'export MKL_NUM_THREADS=1' to disable its internal multithreading\n"
     ]
    },
    {
     "data": {
      "application/vnd.jupyter.widget-view+json": {
       "model_id": "4769300a66da44edac4d4811525f71ab",
       "version_major": 2,
       "version_minor": 0
      },
      "text/plain": [
       "  0%|          | 0/15 [00:00<?, ?it/s]"
      ]
     },
     "metadata": {},
     "output_type": "display_data"
    },
    {
     "data": {
      "application/vnd.jupyter.widget-view+json": {
       "model_id": "8b9b10c7fc7c401e98df94b068a5346c",
       "version_major": 2,
       "version_minor": 0
      },
      "text/plain": [
       "  0%|          | 0/3001 [00:00<?, ?it/s]"
      ]
     },
     "metadata": {},
     "output_type": "display_data"
    },
    {
     "data": {
      "application/vnd.jupyter.widget-view+json": {
       "model_id": "5d4375f45948415d974783e34dcb6579",
       "version_major": 2,
       "version_minor": 0
      },
      "text/plain": [
       "  0%|          | 0/15 [00:00<?, ?it/s]"
      ]
     },
     "metadata": {},
     "output_type": "display_data"
    },
    {
     "data": {
      "application/vnd.jupyter.widget-view+json": {
       "model_id": "eba6371b89ad4eb698e3497356bce445",
       "version_major": 2,
       "version_minor": 0
      },
      "text/plain": [
       "  0%|          | 0/3001 [00:00<?, ?it/s]"
      ]
     },
     "metadata": {},
     "output_type": "display_data"
    }
   ],
   "source": [
    "als_recommender_bm25 = MainRecommender(df_train, weighting='bm25')\n",
    "als_recommender_tfidf = MainRecommender(df_train, weighting='tfidf')"
   ]
  },
  {
   "cell_type": "markdown",
   "id": "1da91a3f",
   "metadata": {},
   "source": [
    "#### В случае, если предсказанное количество рекомендаций менее требуемого количества (например, менее 5), то к ним автоматически будут добавлены рекомендации товаров из топа"
   ]
  },
  {
   "cell_type": "code",
   "execution_count": 8,
   "id": "38c55496",
   "metadata": {},
   "outputs": [],
   "source": [
    "# Вычисление предсказаний для пользователей, расчет precision - метрик на тесте\n",
    "df_test_als_preds = pd.DataFrame({'user_id':df_test['user_id'].unique()})\n",
    "df_test_als_preds['real_item_id'] = df_test_als_preds['user_id'].apply(lambda x: df_test[df_test['user_id'] == x]['item_id'].unique().tolist())\n",
    "\n",
    "#bm25 recommendations\n",
    "df_test_als_preds['predicted_item_id_bm25_5'] = df_test_als_preds['user_id'].apply(lambda x: als_recommender_bm25.get_als_recommendations(x, N=5))\n",
    "df_test_als_preds['precision_at_5_bm25'] = df_test_als_preds.apply(lambda x: precision_at_k(x['predicted_item_id_bm25_5'], x['real_item_id']), axis = 1)\n",
    "\n",
    "#tfidf recommendations\n",
    "df_test_als_preds['predicted_item_id_tfidf_5'] = df_test_als_preds['user_id'].apply(lambda x: als_recommender_tfidf.get_als_recommendations(x, N=5))\n",
    "df_test_als_preds['precision_at_5_tfidf'] = df_test_als_preds.apply(lambda x: precision_at_k(x['predicted_item_id_tfidf_5'], x['real_item_id']), axis = 1)"
   ]
  },
  {
   "cell_type": "code",
   "execution_count": 9,
   "id": "d5c73325",
   "metadata": {},
   "outputs": [
    {
     "data": {
      "text/html": [
       "<div>\n",
       "<style scoped>\n",
       "    .dataframe tbody tr th:only-of-type {\n",
       "        vertical-align: middle;\n",
       "    }\n",
       "\n",
       "    .dataframe tbody tr th {\n",
       "        vertical-align: top;\n",
       "    }\n",
       "\n",
       "    .dataframe thead th {\n",
       "        text-align: right;\n",
       "    }\n",
       "</style>\n",
       "<table border=\"1\" class=\"dataframe\">\n",
       "  <thead>\n",
       "    <tr style=\"text-align: right;\">\n",
       "      <th></th>\n",
       "      <th>user_id</th>\n",
       "      <th>real_item_id</th>\n",
       "      <th>predicted_item_id_bm25_5</th>\n",
       "      <th>precision_at_5_bm25</th>\n",
       "      <th>predicted_item_id_tfidf_5</th>\n",
       "      <th>precision_at_5_tfidf</th>\n",
       "    </tr>\n",
       "  </thead>\n",
       "  <tbody>\n",
       "    <tr>\n",
       "      <th>0</th>\n",
       "      <td>2445</td>\n",
       "      <td>[847774, 863337, 864033, 889319, 909868, 91211...</td>\n",
       "      <td>[6463710, 1009368, 1029743, 7442180, 6463775]</td>\n",
       "      <td>0.2</td>\n",
       "      <td>[1029743, 8090537, 1106523, 1043751, 1018740]</td>\n",
       "      <td>0.2</td>\n",
       "    </tr>\n",
       "    <tr>\n",
       "      <th>1</th>\n",
       "      <td>148</td>\n",
       "      <td>[1008799, 5568729, 5581788, 1096643, 10204559,...</td>\n",
       "      <td>[5568489, 1043730, 5564901, 1046587, 7025203]</td>\n",
       "      <td>0.0</td>\n",
       "      <td>[1029743, 834117, 5569230, 5569845, 913210]</td>\n",
       "      <td>0.2</td>\n",
       "    </tr>\n",
       "    <tr>\n",
       "      <th>2</th>\n",
       "      <td>537</td>\n",
       "      <td>[1206022, 1256103, 1175649, 1216523, 1284630, ...</td>\n",
       "      <td>[1116635, 1128163, 1006664, 1044724, 12262992]</td>\n",
       "      <td>0.4</td>\n",
       "      <td>[916122, 1029743, 897954, 985999, 1075368]</td>\n",
       "      <td>0.0</td>\n",
       "    </tr>\n",
       "    <tr>\n",
       "      <th>3</th>\n",
       "      <td>916</td>\n",
       "      <td>[505280, 535652, 576787, 683346, 718226, 77848...</td>\n",
       "      <td>[860248, 849202, 9655679, 1034176, 1065538]</td>\n",
       "      <td>0.0</td>\n",
       "      <td>[5569471, 1029743, 5569230, 1075368, 849202]</td>\n",
       "      <td>0.0</td>\n",
       "    </tr>\n",
       "    <tr>\n",
       "      <th>4</th>\n",
       "      <td>2200</td>\n",
       "      <td>[840601, 923746, 965530, 995785, 1001298, 1046...</td>\n",
       "      <td>[1054567, 898466, 895680, 914318, 1009187]</td>\n",
       "      <td>0.0</td>\n",
       "      <td>[1004906, 12301109, 844179, 999858, 8090537]</td>\n",
       "      <td>0.6</td>\n",
       "    </tr>\n",
       "    <tr>\n",
       "      <th>...</th>\n",
       "      <td>...</td>\n",
       "      <td>...</td>\n",
       "      <td>...</td>\n",
       "      <td>...</td>\n",
       "      <td>...</td>\n",
       "      <td>...</td>\n",
       "    </tr>\n",
       "    <tr>\n",
       "      <th>2096</th>\n",
       "      <td>1386</td>\n",
       "      <td>[901302, 995242, 16769778]</td>\n",
       "      <td>[1110843, 1005186, 1063207, 1091365, 926422]</td>\n",
       "      <td>0.0</td>\n",
       "      <td>[1005186, 1110843, 986912, 1091365, 1029743]</td>\n",
       "      <td>0.0</td>\n",
       "    </tr>\n",
       "    <tr>\n",
       "      <th>2097</th>\n",
       "      <td>472</td>\n",
       "      <td>[6553836]</td>\n",
       "      <td>[7169088, 934399, 7168026, 1054567, 1105301]</td>\n",
       "      <td>0.0</td>\n",
       "      <td>[908318, 1042438, 872137, 883932, 866211]</td>\n",
       "      <td>0.0</td>\n",
       "    </tr>\n",
       "    <tr>\n",
       "      <th>2098</th>\n",
       "      <td>90</td>\n",
       "      <td>[840890, 856519, 862535, 880438, 914077, 94229...</td>\n",
       "      <td>[862535, 13007846, 1019643, 1005274, 978343]</td>\n",
       "      <td>0.2</td>\n",
       "      <td>[1029743, 1106523, 1070820, 1126899, 916122]</td>\n",
       "      <td>0.0</td>\n",
       "    </tr>\n",
       "    <tr>\n",
       "      <th>2099</th>\n",
       "      <td>1635</td>\n",
       "      <td>[1036681, 998119, 1117128]</td>\n",
       "      <td>[823862, 8090440, 841309, 12731447, 919766]</td>\n",
       "      <td>0.0</td>\n",
       "      <td>[1029743, 1106523, 5569230, 866211, 916122]</td>\n",
       "      <td>0.0</td>\n",
       "    </tr>\n",
       "    <tr>\n",
       "      <th>2100</th>\n",
       "      <td>832</td>\n",
       "      <td>[826272, 835004, 885463, 938849, 985577, 10162...</td>\n",
       "      <td>[1134810, 1134483, 5569327, 944139, 5592094]</td>\n",
       "      <td>0.0</td>\n",
       "      <td>[1029743, 5569230, 5569471, 1106523, 916122]</td>\n",
       "      <td>0.2</td>\n",
       "    </tr>\n",
       "  </tbody>\n",
       "</table>\n",
       "<p>2101 rows × 6 columns</p>\n",
       "</div>"
      ],
      "text/plain": [
       "      user_id                                       real_item_id  \\\n",
       "0        2445  [847774, 863337, 864033, 889319, 909868, 91211...   \n",
       "1         148  [1008799, 5568729, 5581788, 1096643, 10204559,...   \n",
       "2         537  [1206022, 1256103, 1175649, 1216523, 1284630, ...   \n",
       "3         916  [505280, 535652, 576787, 683346, 718226, 77848...   \n",
       "4        2200  [840601, 923746, 965530, 995785, 1001298, 1046...   \n",
       "...       ...                                                ...   \n",
       "2096     1386                         [901302, 995242, 16769778]   \n",
       "2097      472                                          [6553836]   \n",
       "2098       90  [840890, 856519, 862535, 880438, 914077, 94229...   \n",
       "2099     1635                         [1036681, 998119, 1117128]   \n",
       "2100      832  [826272, 835004, 885463, 938849, 985577, 10162...   \n",
       "\n",
       "                            predicted_item_id_bm25_5  precision_at_5_bm25  \\\n",
       "0      [6463710, 1009368, 1029743, 7442180, 6463775]                  0.2   \n",
       "1      [5568489, 1043730, 5564901, 1046587, 7025203]                  0.0   \n",
       "2     [1116635, 1128163, 1006664, 1044724, 12262992]                  0.4   \n",
       "3        [860248, 849202, 9655679, 1034176, 1065538]                  0.0   \n",
       "4         [1054567, 898466, 895680, 914318, 1009187]                  0.0   \n",
       "...                                              ...                  ...   \n",
       "2096    [1110843, 1005186, 1063207, 1091365, 926422]                  0.0   \n",
       "2097    [7169088, 934399, 7168026, 1054567, 1105301]                  0.0   \n",
       "2098    [862535, 13007846, 1019643, 1005274, 978343]                  0.2   \n",
       "2099     [823862, 8090440, 841309, 12731447, 919766]                  0.0   \n",
       "2100    [1134810, 1134483, 5569327, 944139, 5592094]                  0.0   \n",
       "\n",
       "                          predicted_item_id_tfidf_5  precision_at_5_tfidf  \n",
       "0     [1029743, 8090537, 1106523, 1043751, 1018740]                   0.2  \n",
       "1       [1029743, 834117, 5569230, 5569845, 913210]                   0.2  \n",
       "2        [916122, 1029743, 897954, 985999, 1075368]                   0.0  \n",
       "3      [5569471, 1029743, 5569230, 1075368, 849202]                   0.0  \n",
       "4      [1004906, 12301109, 844179, 999858, 8090537]                   0.6  \n",
       "...                                             ...                   ...  \n",
       "2096   [1005186, 1110843, 986912, 1091365, 1029743]                   0.0  \n",
       "2097      [908318, 1042438, 872137, 883932, 866211]                   0.0  \n",
       "2098   [1029743, 1106523, 1070820, 1126899, 916122]                   0.0  \n",
       "2099    [1029743, 1106523, 5569230, 866211, 916122]                   0.0  \n",
       "2100   [1029743, 5569230, 5569471, 1106523, 916122]                   0.2  \n",
       "\n",
       "[2101 rows x 6 columns]"
      ]
     },
     "execution_count": 9,
     "metadata": {},
     "output_type": "execute_result"
    }
   ],
   "source": [
    "df_test_als_preds"
   ]
  },
  {
   "cell_type": "code",
   "execution_count": 10,
   "id": "d98a8dc1",
   "metadata": {},
   "outputs": [
    {
     "name": "stdout",
     "output_type": "stream",
     "text": [
      "Средний precision для tfidf: 13.9%\n",
      "Средний precision для bm25: 9.9%\n"
     ]
    }
   ],
   "source": [
    "print(f\"Средний precision для tfidf: {round(df_test_als_preds['precision_at_5_tfidf'].mean() * 100, 1)}%\")\n",
    "print(f\"Средний precision для bm25: {round(df_test_als_preds['precision_at_5_bm25'].mean() * 100, 1)}%\")"
   ]
  },
  {
   "cell_type": "code",
   "execution_count": 11,
   "id": "4914becf",
   "metadata": {},
   "outputs": [
    {
     "data": {
      "image/png": "[encoded data removed]",
      "text/plain": [
       "<Figure size 640x480 with 1 Axes>"
      ]
     },
     "metadata": {},
     "output_type": "display_data"
    }
   ],
   "source": [
    "sns.histplot(df_test_als_preds, x='precision_at_5_bm25', label = 'precision_at_5_bm25', alpha=0.5, color='r')\n",
    "sns.histplot(df_test_als_preds, x='precision_at_5_tfidf', label = 'precision_at_5_tfidf', alpha = 0.5, color='g')\n",
    "plt.legend()\n",
    "plt.show()"
   ]
  },
  {
   "cell_type": "markdown",
   "id": "a9350c10",
   "metadata": {},
   "source": [
    "#### Вывод: ALS - модель, в которой веса рассчитываются при помощи tfidf, показала лучший результат, чем bm25. В дальнейшей работе рекомендуется использовать ее"
   ]
  },
  {
   "cell_type": "markdown",
   "id": "955d7922",
   "metadata": {},
   "source": [
    "#### Финальная проверка работы модели на валидационном датасете"
   ]
  },
  {
   "cell_type": "code",
   "execution_count": 12,
   "id": "ad688efa",
   "metadata": {},
   "outputs": [],
   "source": [
    "df_val_als_preds = pd.DataFrame({'user_id':df_val['user_id'].unique()})\n",
    "df_val_als_preds['real_item_id'] = df_val_als_preds['user_id'].apply(lambda x: df_val[df_val['user_id'] == x]['item_id'].unique().tolist())\n",
    "df_val_als_preds['predicted_item_id'] = df_val_als_preds['user_id'].apply(lambda x: als_recommender_tfidf.get_als_recommendations(x, N=5))\n",
    "df_val_als_preds['precision_at_5'] = df_val_als_preds.apply(lambda x: precision_at_k(x['predicted_item_id'], x['real_item_id']), axis = 1)"
   ]
  },
  {
   "cell_type": "code",
   "execution_count": 13,
   "id": "f0d94fbb",
   "metadata": {},
   "outputs": [
    {
     "name": "stdout",
     "output_type": "stream",
     "text": [
      "Средний precision_at_5 на валидационных данных: 10.6%\n"
     ]
    },
    {
     "data": {
      "text/plain": [
       "<AxesSubplot:>"
      ]
     },
     "execution_count": 13,
     "metadata": {},
     "output_type": "execute_result"
    },
    {
     "data": {
      "image/png": "[encoded data removed]",
      "text/plain": [
       "<Figure size 640x480 with 1 Axes>"
      ]
     },
     "metadata": {},
     "output_type": "display_data"
    }
   ],
   "source": [
    "print(f\"Средний precision_at_5 на валидационных данных: {round(df_val_als_preds['precision_at_5'].mean() * 100, 1)}%\")\n",
    "df_val_als_preds['precision_at_5'].hist(ec='black')"
   ]
  },
  {
   "cell_type": "markdown",
   "id": "7e724c64",
   "metadata": {},
   "source": [
    "### Вывод:\n",
    "Несмотря на то, что итоговая метрика проекта precision_at_5 составляет 10%, считаю ее недостаточно хорошей. Очевидно, что модель можно улучшить. Для этого можно попробовать следующие методы:\n",
    "1. Изменить параметры обучения модели (на данный момент они зафиксированы при инициализации модели) - такие как количество итераций, регуляризация\n",
    "2. Изменить параметры расчета взвешиваний TF-idf, bm25, или применить другие, более простые методы взвешивания (например, частота покупок)\n",
    "3. Добавить третий и дальнейшие уровни рекомендаций"
   ]
  }
 ],
 "metadata": {
  "kernelspec": {
   "display_name": "Python 3 (ipykernel)",
   "language": "python",
   "name": "python3"
  },
  "language_info": {
   "codemirror_mode": {
    "name": "ipython",
    "version": 3
   },
   "file_extension": ".py",
   "mimetype": "text/x-python",
   "name": "python",
   "nbconvert_exporter": "python",
   "pygments_lexer": "ipython3",
   "version": "3.9.12"
  }
 },
 "nbformat": 4,
 "nbformat_minor": 5
}
