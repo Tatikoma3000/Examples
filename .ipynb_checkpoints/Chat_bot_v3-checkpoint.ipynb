{
 "cells": [
  {
   "cell_type": "markdown",
   "id": "ae676376",
   "metadata": {},
   "source": [
    "### Чат-бот: запуск данного скрипта приведет к запуску самого чат-бота (в самой последней ячейке необходимо вставить Ваш API-ключ для телеграм)"
   ]
  },
  {
   "cell_type": "markdown",
   "id": "3acef289",
   "metadata": {},
   "source": [
    "##### 1. Импорт библиотек"
   ]
  },
  {
   "cell_type": "code",
   "execution_count": 1,
   "id": "eabdb05d",
   "metadata": {},
   "outputs": [],
   "source": [
    "import pandas as pd\n",
    "import string\n",
    "import emoji\n",
    "import re\n",
    "from tqdm import tqdm\n",
    "from stop_words import get_stop_words\n",
    "import razdel\n",
    "import nltk\n",
    "from pymorphy2 import MorphAnalyzer\n",
    "from gensim.models import FastText\n",
    "import numpy as np\n",
    "from telegram.ext import Updater, CommandHandler, MessageHandler\n",
    "from telegram.ext import filters\n",
    "from telegram.ext import *\n",
    "from telegram import Update\n",
    "import telebot\n",
    "import random\n",
    "import dill\n",
    "import warnings\n",
    "warnings.simplefilter('ignore')\n",
    "import torch\n",
    "tqdm.pandas()"
   ]
  },
  {
   "cell_type": "markdown",
   "id": "9b29054f",
   "metadata": {},
   "source": [
    "##### 2. Подготовка к препроцессингу датасета"
   ]
  },
  {
   "cell_type": "code",
   "execution_count": 2,
   "id": "598c2d46",
   "metadata": {},
   "outputs": [],
   "source": [
    "# Размерность вектора эмбеддингов для слов\n",
    "embedding_dim=128"
   ]
  },
  {
   "cell_type": "code",
   "execution_count": 3,
   "id": "e8cc0b67",
   "metadata": {},
   "outputs": [
    {
     "data": {
      "text/plain": [
       "'!\"#$%&\\'()*+,-./:;<=>?@[\\\\]^_`{|}~'"
      ]
     },
     "execution_count": 3,
     "metadata": {},
     "output_type": "execute_result"
    }
   ],
   "source": [
    "# Импорт знаков пунктуации для препроцессинга\n",
    "punctuations = string.punctuation\n",
    "punctuations"
   ]
  },
  {
   "cell_type": "code",
   "execution_count": 4,
   "id": "2b535cc3",
   "metadata": {},
   "outputs": [
    {
     "name": "stdout",
     "output_type": "stream",
     "text": [
      "Всего найдено 422 стоп-слов\n"
     ]
    }
   ],
   "source": [
    "# Импорт Стоп-слов\n",
    "stop_words = get_stop_words('ru')\n",
    "stops = nltk.corpus.stopwords.words('russian')\n",
    "stop_words.extend(stops)\n",
    "stop_words = list(set(stop_words))\n",
    "print(f'Всего найдено {len(stop_words)} стоп-слов')"
   ]
  },
  {
   "cell_type": "code",
   "execution_count": 5,
   "id": "aa76e2fc",
   "metadata": {},
   "outputs": [],
   "source": [
    "morph_analyzer = MorphAnalyzer()"
   ]
  },
  {
   "cell_type": "markdown",
   "id": "861f9e66",
   "metadata": {},
   "source": [
    "##### 3. Чтение исходных датасетов и моделей:"
   ]
  },
  {
   "cell_type": "code",
   "execution_count": 6,
   "id": "7954b887",
   "metadata": {},
   "outputs": [],
   "source": [
    "with open(r'D:\\Chat-bot\\talker\\df_preprocessed.dill', 'rb') as f:\n",
    "    talker = dill.load(f)\n",
    "    \n",
    "with open(r'D:\\Chat-bot\\medecine\\df_preprocessed.dill', 'rb') as f:\n",
    "    med = dill.load(f)\n",
    "    \n",
    "with open(r'D:\\Chat-bot\\jokes\\df_preprocessed.dill', 'rb') as f:\n",
    "    jokes = dill.load(f)\n",
    "    \n",
    "    \n",
    "with open(r'D:\\Chat-bot\\logistic_regression_med_talker_splitter.dill', 'rb') as f:\n",
    "    lr = dill.load(f)\n",
    "    \n",
    "with open(r'D:\\Chat-bot\\logistic_regression_vectorizer.dill', 'rb') as f:\n",
    "    vectorizer = dill.load(f)  \n",
    "\n",
    "talker_fastetext = FastText.load(r'D:\\Chat-bot\\talker\\fastetx_talker_model_2.fst')\n",
    "med_fastetext = FastText.load(r'D:\\Chat-bot\\medecine\\fastetx_model_1.fst')\n",
    "jokes_fastetext = FastText.load(r'D:\\Chat-bot\\jokes\\fastetx_model_1.fst')\n",
    "\n",
    "\n",
    "with open(r'D:\\Chat-bot\\TeraSpace chat_bot\\chatter.dill', 'rb') as f:\n",
    "    terra_space_chater = dill.load(f)\n",
    "    \n",
    "with open(r'D:\\Chat-bot\\TeraSpace chat_bot\\tokenizer.dill', 'rb') as f:\n",
    "    terra_space_tokenizer = dill.load(f)  "
   ]
  },
  {
   "cell_type": "markdown",
   "id": "ca4f0009",
   "metadata": {},
   "source": [
    "##### 4. Препроцессинг: удаление знаков пунктуаций, эмоджи, чисел и т.д."
   ]
  },
  {
   "cell_type": "code",
   "execution_count": 7,
   "id": "60587d92",
   "metadata": {},
   "outputs": [],
   "source": [
    "def preprocess_text(text:str, punctuations=punctuations, stop_words=stop_words, morph=morph_analyzer):\n",
    "    \n",
    "    text = str(text)\n",
    "    text = text.lower()                 # Изменяем регистр на нижний\n",
    "    \n",
    "    # Замена пунктуации пробелами:\n",
    "    for el in string.punctuation:\n",
    "        text = text.replace(el, ' ')\n",
    "    \n",
    "#    # Замена специальных символов на пробелы\n",
    "#    text = re.sub(r'[^a-Za-Z0-9]', ' ', text)\n",
    "#    print(text)\n",
    "\n",
    "    # Удаляем эмоджи из текста\n",
    "    emoji_pattern = re.compile(\"[\"\n",
    "        u\"\\U0001F600-\\U0001F64F\"  # emoticons\n",
    "        u\"\\U0001F300-\\U0001F5FF\"  # symbols & pictographs\n",
    "        u\"\\U0001F680-\\U0001F6FF\"  # transport & map symbols\n",
    "        u\"\\U0001F1E0-\\U0001F1FF\"  # flags (iOS)\n",
    "                           \"]+\", flags=re.UNICODE)\n",
    "    text = emoji_pattern.sub(r'a', text)\n",
    "    \n",
    "    # Сличение частицы \"не\" с глаголом\n",
    "    text = re.sub(r'не ', r'не', text)\n",
    "\n",
    "    # Замена чисел на пробелы\n",
    "    text = re.sub(r'\\d+', ' ', text)\n",
    "   \n",
    "    # Удаляем слова длиной в 1 символ\n",
    "    # Удаляем слова из словаря стоп-слов\n",
    "    # Получаем нормальную форму слова\n",
    "    text = ' '.join([morph.parse(w)[0].normal_form for w in text.split() if len(w)>1 and w not in stop_words])\n",
    "  \n",
    "    return text"
   ]
  },
  {
   "cell_type": "code",
   "execution_count": 8,
   "id": "5b1e0fe5",
   "metadata": {},
   "outputs": [],
   "source": [
    "# Процедура получения эмбеддинга предложения\n",
    "def words_to_embeddings(mas:list, model):\n",
    "    vector = np.zeros(embedding_dim)\n",
    "    i = 0\n",
    "    for word in mas:\n",
    "        i += 1\n",
    "        vector += model.wv[word]\n",
    "    return vector/i"
   ]
  },
  {
   "cell_type": "code",
   "execution_count": 9,
   "id": "7071f3c2",
   "metadata": {},
   "outputs": [],
   "source": [
    "def compute_distance_between_vectors(i, j):\n",
    "    dot_product = np.dot(i, j)\n",
    "    magnitude1 = np.linalg.norm(i)\n",
    "    magnitude2 = np.linalg.norm(j)\n",
    "    angle = np.arccos(dot_product / (magnitude1 * magnitude2))\n",
    "    return angle"
   ]
  },
  {
   "cell_type": "code",
   "execution_count": 10,
   "id": "cd18fac1",
   "metadata": {},
   "outputs": [
    {
     "name": "stderr",
     "output_type": "stream",
     "text": [
      "100%|██████████| 136054/136054 [00:12<00:00, 10544.56it/s]\n",
      "100%|██████████| 187763/187763 [01:08<00:00, 2731.47it/s]\n",
      "100%|██████████| 87651/87651 [00:17<00:00, 5014.47it/s] \n"
     ]
    }
   ],
   "source": [
    "talker['sentence_embeddings'] = talker['question_tokenized'].progress_apply(lambda x: words_to_embeddings(x, talker_fastetext))\n",
    "med['sentence_embeddings'] = med['question_tokenized'].progress_apply(lambda x: words_to_embeddings(x, med_fastetext))\n",
    "jokes['sentence_embeddings'] = jokes['tokenized'].progress_apply(lambda x: words_to_embeddings(x, jokes_fastetext))"
   ]
  },
  {
   "cell_type": "code",
   "execution_count": 11,
   "id": "c2aacaba",
   "metadata": {},
   "outputs": [],
   "source": [
    "# Удаление \"неприличных\" ответов\n",
    "jokes = jokes[jokes['question_answer'] != 'Я сейчас расскажу такой анекдот, что у тебя сиськи отвалятся от смеха.;;; А-а-а! Так тебе его, наверное, уже давно рассказали?']\n",
    "talker = talker[talker['answer'] != 'Я без проблем пойду в задницу']\n",
    "jokes = jokes[jokes['question_answer'] != 'Хочешь, я сделаю Тебе Приятно?;;; Да, расскажи мне сказку...;;; И где тут логика?;;; В пизде...;;; Хочешь, я расскажу Тебе Сказку?']"
   ]
  },
  {
   "cell_type": "markdown",
   "id": "280c989e",
   "metadata": {},
   "source": [
    "##### 5. Запуск Чат-бота. Пока ячейка ниже работает, можно общаться с Чат - ботом через телеграм"
   ]
  },
  {
   "cell_type": "code",
   "execution_count": null,
   "id": "88530822",
   "metadata": {},
   "outputs": [],
   "source": [
    "bot = telebot.TeleBot(\"ВВедите Ваш токен к телеграм здесь\") # Введите Ваш токен API к Telegram\n",
    "\n",
    "jokes_word_list = ['шутка', 'анекдот']\n",
    "\n",
    "@bot.message_handler(content_types=['text'])\n",
    "def get_text_messages(message):\n",
    "    source_text = message.text\n",
    "        \n",
    "    if message.text == '/start':\n",
    "        bot.send_message(message.from_user.id, \"Привет! Начни со мной переписку!\\nЕсли что-то не понял - не злись, попробуй переформулировать предложение:)\")\n",
    "        return None\n",
    "    \n",
    "    global jokes_word_list\n",
    "    \n",
    "    text=preprocess_text(message.text)\n",
    "    text = [_.text for _ in list(razdel.tokenize(text))]\n",
    "    \n",
    "    # Определяем, просит ли юзер шутку\n",
    "    for joke_word in jokes_word_list:\n",
    "        if joke_word in text:\n",
    "            text.remove(joke_word)\n",
    "            sentence_vector = words_to_embeddings(text, jokes_fastetext)\n",
    "            computing = jokes['sentence_embeddings'].apply(lambda x: compute_distance_between_vectors(x, sentence_vector))\n",
    "            index = random.choice(computing.sort_values(ascending=True).head(5).index)\n",
    "            answer = jokes.loc[index, 'question_answer'].replace(';;; ', '\\n')\n",
    "            answer = f'Анекдот:\\n\\n{answer}'\n",
    "            bot.send_message(message.from_user.id, answer)\n",
    "            return None\n",
    "    \n",
    "    vect_text = vectorizer.transform([text])\n",
    "    class_label = lr.predict(vect_text)[0]\n",
    "    \n",
    "    if class_label == 0 and 'боль' not in text and 'болеть' not in text:\n",
    "        # Переходим к болталке\n",
    "#         sentence_vector = words_to_embeddings(text, talker_fastetext)\n",
    "#         computing = talker['sentence_embeddings'].apply(lambda x: compute_distance_between_vectors(x, sentence_vector))\n",
    "#         index = random.choice(computing.sort_values(ascending=True).head(5).index)\n",
    "#         answer = talker.loc[index, 'answer']\n",
    "\n",
    "# Используем предобученного чат бота TerraSpace\n",
    "        lm_text=f'<SC1>- {source_text}\\n- <extra_id_0>'\n",
    "        input_ids=torch.tensor([terra_space_tokenizer.encode(lm_text)])\n",
    "        outputs=terra_space_chater.generate(input_ids=input_ids,\n",
    "                                        max_length=200,\n",
    "                                        eos_token_id=terra_space_tokenizer.eos_token_id,\n",
    "                                        early_stopping=True,\n",
    "                                        do_sample=True,\n",
    "                                        temperature=0.7,\n",
    "                                        top_k=0,\n",
    "                                        top_p=0.8)\n",
    "\n",
    "        answer = terra_space_tokenizer.decode(outputs[0][1:]).replace('<extra_id_0>', '').replace('</s>', '').capitalize()\n",
    "        bot.send_message(message.from_user.id, answer)\n",
    "        return None\n",
    "    else:\n",
    "        # Переходим к медецинским ответам\n",
    "        sentence_vector = words_to_embeddings(text, med_fastetext)\n",
    "        computing = med['sentence_embeddings'].apply(lambda x: compute_distance_between_vectors(x, sentence_vector))\n",
    "        indexes = computing.sort_values(ascending=True).head(5).index.tolist()\n",
    "        random.shuffle(indexes)\n",
    "        counter = 1\n",
    "        answer = 'Прикладываю 5 лучших ответов с Форума по Вашей проблеме. Если какие-то ответы не подошли - попробуйте переформулировать вопрос:):\\n\\n'\n",
    "        for ind in indexes:\n",
    "            cur_answer = med.loc[ind, 'answer'].split(';\\n')[0]\n",
    "            answer = f\"{answer}{counter}. {cur_answer}\\n\"\n",
    "            counter += 1\n",
    "        bot.send_message(message.from_user.id, answer[:-1])\n",
    "        return None\n",
    "    \n",
    "bot.polling(none_stop=True, interval=0)"
   ]
  }
 ],
 "metadata": {
  "kernelspec": {
   "display_name": "Python 3 (ipykernel)",
   "language": "python",
   "name": "python3"
  },
  "language_info": {
   "codemirror_mode": {
    "name": "ipython",
    "version": 3
   },
   "file_extension": ".py",
   "mimetype": "text/x-python",
   "name": "python",
   "nbconvert_exporter": "python",
   "pygments_lexer": "ipython3",
   "version": "3.9.12"
  }
 },
 "nbformat": 4,
 "nbformat_minor": 5
}
