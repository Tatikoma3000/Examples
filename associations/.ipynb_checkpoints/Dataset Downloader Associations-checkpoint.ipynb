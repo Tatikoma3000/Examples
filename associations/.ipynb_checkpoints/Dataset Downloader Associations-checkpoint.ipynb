{
 "cells": [
  {
   "cell_type": "markdown",
   "id": "a2561b70",
   "metadata": {},
   "source": [
    "### Загрузчик датасета со словами-ассоциациями и сохранением его на диск"
   ]
  },
  {
   "cell_type": "code",
   "execution_count": 3,
   "id": "8fb182ff",
   "metadata": {},
   "outputs": [],
   "source": [
    "from datasets import load_dataset\n",
    "import pandas as pd"
   ]
  },
  {
   "cell_type": "code",
   "execution_count": 4,
   "id": "bf9b87ba",
   "metadata": {},
   "outputs": [],
   "source": [
    "dataset = load_dataset(\"solkogan/russian_nouns_associations\")"
   ]
  },
  {
   "cell_type": "code",
   "execution_count": 28,
   "id": "3f1d1390",
   "metadata": {},
   "outputs": [],
   "source": [
    "text = dataset['train']['word|association']\n",
    "for i in range(len(text)):\n",
    "    text[i] = text[i].lower().replace('|', ' ')"
   ]
  },
  {
   "cell_type": "code",
   "execution_count": 30,
   "id": "98787b4b",
   "metadata": {},
   "outputs": [],
   "source": [
    "pd.Series(text).to_csv(r'D:\\Chat-bot\\associations\\associations.csv', encoding='utf-8', sep='\\t')"
   ]
  }
 ],
 "metadata": {
  "kernelspec": {
   "display_name": "Python 3 (ipykernel)",
   "language": "python",
   "name": "python3"
  },
  "language_info": {
   "codemirror_mode": {
    "name": "ipython",
    "version": 3
   },
   "file_extension": ".py",
   "mimetype": "text/x-python",
   "name": "python",
   "nbconvert_exporter": "python",
   "pygments_lexer": "ipython3",
   "version": "3.9.12"
  }
 },
 "nbformat": 4,
 "nbformat_minor": 5
}
