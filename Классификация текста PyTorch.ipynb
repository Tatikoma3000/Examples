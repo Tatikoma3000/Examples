{
 "cells": [
  {
   "cell_type": "markdown",
   "metadata": {
    "id": "kgpLM9JJjjpg"
   },
   "source": [
    "### Задача:\n",
    "По имеющимся разделенным на 2 класса твитам (положительные твиты / негативные (оскорбительные) твиты) обучить нейросеть для дальнейшего детектирования оскорбительного контента.\n",
    "Датасет доступен по ссылке:\n",
    "https://www.kaggle.com/datasets/arkhoshghalb/twitter-sentiment-analysis-hatred-speech"
   ]
  },
  {
   "cell_type": "markdown",
   "metadata": {},
   "source": [
    "##### 1. Установка и импорт библиотек"
   ]
  },
  {
   "cell_type": "code",
   "execution_count": 1,
   "metadata": {
    "colab": {
     "base_uri": "https://localhost:8080/"
    },
    "id": "La8bzcJhOAzn",
    "outputId": "39638e34-9c00-4394-c502-b7e673042092"
   },
   "outputs": [
    {
     "name": "stderr",
     "output_type": "stream",
     "text": [
      "WARNING: Ignoring invalid distribution - (c:\\users\\lazar\\anaconda3\\lib\\site-packages)\n",
      "WARNING: Ignoring invalid distribution -orch (c:\\users\\lazar\\anaconda3\\lib\\site-packages)\n",
      "WARNING: Ignoring invalid distribution -pencv-python (c:\\users\\lazar\\anaconda3\\lib\\site-packages)\n",
      "WARNING: Ignoring invalid distribution -rotobuf (c:\\users\\lazar\\anaconda3\\lib\\site-packages)\n",
      "WARNING: Ignoring invalid distribution - (c:\\users\\lazar\\anaconda3\\lib\\site-packages)\n",
      "WARNING: Ignoring invalid distribution -orch (c:\\users\\lazar\\anaconda3\\lib\\site-packages)\n",
      "WARNING: Ignoring invalid distribution -pencv-python (c:\\users\\lazar\\anaconda3\\lib\\site-packages)\n",
      "WARNING: Ignoring invalid distribution -rotobuf (c:\\users\\lazar\\anaconda3\\lib\\site-packages)\n",
      "\n",
      "[notice] A new release of pip is available: 23.3.2 -> 24.0\n",
      "[notice] To update, run: python.exe -m pip install --upgrade pip\n"
     ]
    },
    {
     "name": "stdout",
     "output_type": "stream",
     "text": [
      "Requirement already satisfied: stop-words in c:\\users\\lazar\\anaconda3\\lib\\site-packages (2018.7.23)\n",
      "Requirement already satisfied: nltk in c:\\users\\lazar\\anaconda3\\lib\\site-packages (3.8.1)\n",
      "Requirement already satisfied: click in c:\\users\\lazar\\anaconda3\\lib\\site-packages (from nltk) (8.0.4)\n",
      "Requirement already satisfied: joblib in c:\\users\\lazar\\anaconda3\\lib\\site-packages (from nltk) (1.2.0)\n",
      "Requirement already satisfied: regex>=2021.8.3 in c:\\users\\lazar\\anaconda3\\lib\\site-packages (from nltk) (2023.10.3)\n",
      "Requirement already satisfied: tqdm in c:\\users\\lazar\\anaconda3\\lib\\site-packages (from nltk) (4.65.0)\n",
      "Requirement already satisfied: colorama in c:\\users\\lazar\\anaconda3\\lib\\site-packages (from click->nltk) (0.4.6)\n"
     ]
    },
    {
     "name": "stderr",
     "output_type": "stream",
     "text": [
      "C:\\Users\\lazar\\anaconda3\\lib\\site-packages\\scipy\\__init__.py:146: UserWarning: A NumPy version >=1.16.5 and <1.23.0 is required for this version of SciPy (detected version 1.25.0\n",
      "  warnings.warn(f\"A NumPy version >={np_minversion} and <{np_maxversion}\"\n"
     ]
    },
    {
     "ename": "ModuleNotFoundError",
     "evalue": "No module named 'torchsummary'",
     "output_type": "error",
     "traceback": [
      "\u001b[1;31m---------------------------------------------------------------------------\u001b[0m",
      "\u001b[1;31mModuleNotFoundError\u001b[0m                       Traceback (most recent call last)",
      "Cell \u001b[1;32mIn[1], line 19\u001b[0m\n\u001b[0;32m     17\u001b[0m \u001b[38;5;28;01mimport\u001b[39;00m \u001b[38;5;21;01mtorch\u001b[39;00m\u001b[38;5;21;01m.\u001b[39;00m\u001b[38;5;21;01mnn\u001b[39;00m\u001b[38;5;21;01m.\u001b[39;00m\u001b[38;5;21;01mfunctional\u001b[39;00m \u001b[38;5;28;01mas\u001b[39;00m \u001b[38;5;21;01mF\u001b[39;00m\n\u001b[0;32m     18\u001b[0m \u001b[38;5;28;01mfrom\u001b[39;00m \u001b[38;5;21;01msklearn\u001b[39;00m\u001b[38;5;21;01m.\u001b[39;00m\u001b[38;5;21;01mmetrics\u001b[39;00m \u001b[38;5;28;01mimport\u001b[39;00m precision_score, recall_score, precision_recall_curve, roc_auc_score\n\u001b[1;32m---> 19\u001b[0m \u001b[38;5;28;01mfrom\u001b[39;00m \u001b[38;5;21;01mtorchsummary\u001b[39;00m \u001b[38;5;28;01mimport\u001b[39;00m summary\n\u001b[0;32m     21\u001b[0m nltk\u001b[38;5;241m.\u001b[39mdownload(\u001b[38;5;124m'\u001b[39m\u001b[38;5;124mwordnet\u001b[39m\u001b[38;5;124m'\u001b[39m)\n\u001b[0;32m     22\u001b[0m nltk\u001b[38;5;241m.\u001b[39mdownload(\u001b[38;5;124m'\u001b[39m\u001b[38;5;124mpunkt\u001b[39m\u001b[38;5;124m'\u001b[39m)\n",
      "\u001b[1;31mModuleNotFoundError\u001b[0m: No module named 'torchsummary'"
     ]
    }
   ],
   "source": [
    "!pip install stop-words nltk\n",
    "import pandas as pd\n",
    "from sklearn.model_selection import train_test_split\n",
    "from torch.utils.data import Dataset, DataLoader\n",
    "import torch\n",
    "import nltk\n",
    "from nltk.probability import FreqDist\n",
    "from nltk.stem import WordNetLemmatizer\n",
    "from nltk.tokenize import word_tokenize\n",
    "from stop_words import get_stop_words\n",
    "from string import punctuation\n",
    "import warnings\n",
    "warnings.simplefilter('ignore')\n",
    "from matplotlib import pyplot as plt\n",
    "import torch\n",
    "import torch.nn as nn\n",
    "import torch.nn.functional as F\n",
    "from sklearn.metrics import precision_score, recall_score, precision_recall_curve, roc_auc_score\n",
    "from torchsummary import summary\n",
    "\n",
    "nltk.download('wordnet')\n",
    "nltk.download('punkt')"
   ]
  },
  {
   "cell_type": "markdown",
   "metadata": {
    "id": "_QBBQyJkOEQo"
   },
   "source": [
    "##### 2. Выбор среды для обучения:"
   ]
  },
  {
   "cell_type": "code",
   "execution_count": null,
   "metadata": {
    "colab": {
     "base_uri": "https://localhost:8080/"
    },
    "id": "qsx4bU7YloFR",
    "outputId": "08ad6561-03c7-4730-ade0-eab5d23177e1"
   },
   "outputs": [
    {
     "name": "stdout",
     "output_type": "stream",
     "text": [
      "_CudaDeviceProperties(name='Tesla T4', major=7, minor=5, total_memory=15101MB, multi_processor_count=40)\n"
     ]
    }
   ],
   "source": [
    "if torch.cuda.is_available():\n",
    "    device = torch.device(\"cuda\")\n",
    "    print(torch.cuda.get_device_properties(device))\n",
    "else:\n",
    "    print('using CPU')\n",
    "    device = torch.device('cpu')"
   ]
  },
  {
   "cell_type": "markdown",
   "metadata": {},
   "source": [
    "##### 3. Импорт датасета для обучения"
   ]
  },
  {
   "cell_type": "code",
   "execution_count": 3,
   "metadata": {
    "colab": {
     "base_uri": "https://localhost:8080/",
     "height": 175
    },
    "id": "y_kgB6WvNgY9",
    "outputId": "4316053b-53ba-4349-b858-0b6b492fb81a"
   },
   "outputs": [
    {
     "data": {
      "text/html": [
       "<div>\n",
       "<style scoped>\n",
       "    .dataframe tbody tr th:only-of-type {\n",
       "        vertical-align: middle;\n",
       "    }\n",
       "\n",
       "    .dataframe tbody tr th {\n",
       "        vertical-align: top;\n",
       "    }\n",
       "\n",
       "    .dataframe thead th {\n",
       "        text-align: right;\n",
       "    }\n",
       "</style>\n",
       "<table border=\"1\" class=\"dataframe\">\n",
       "  <thead>\n",
       "    <tr style=\"text-align: right;\">\n",
       "      <th></th>\n",
       "      <th>label</th>\n",
       "      <th>tweet</th>\n",
       "    </tr>\n",
       "    <tr>\n",
       "      <th>id</th>\n",
       "      <th></th>\n",
       "      <th></th>\n",
       "    </tr>\n",
       "  </thead>\n",
       "  <tbody>\n",
       "    <tr>\n",
       "      <th>1</th>\n",
       "      <td>0</td>\n",
       "      <td>@user when a father is dysfunctional and is s...</td>\n",
       "    </tr>\n",
       "    <tr>\n",
       "      <th>2</th>\n",
       "      <td>0</td>\n",
       "      <td>@user @user thanks for #lyft credit i can't us...</td>\n",
       "    </tr>\n",
       "    <tr>\n",
       "      <th>3</th>\n",
       "      <td>0</td>\n",
       "      <td>bihday your majesty</td>\n",
       "    </tr>\n",
       "  </tbody>\n",
       "</table>\n",
       "</div>"
      ],
      "text/plain": [
       "    label                                              tweet\n",
       "id                                                          \n",
       "1       0   @user when a father is dysfunctional and is s...\n",
       "2       0  @user @user thanks for #lyft credit i can't us...\n",
       "3       0                                bihday your majesty"
      ]
     },
     "execution_count": 3,
     "metadata": {},
     "output_type": "execute_result"
    }
   ],
   "source": [
    "path_to_train_data = r'./dataset.csv'\n",
    "df = pd.read_csv(path_to_train_data, sep=',', encoding='utf-8', index_col='id')\n",
    "df_x, df_y = df['tweet'].copy(), df['label'].copy()\n",
    "df.head(3)"
   ]
  },
  {
   "cell_type": "code",
   "execution_count": null,
   "metadata": {
    "colab": {
     "base_uri": "https://localhost:8080/"
    },
    "id": "G5QLSZlTQNCW",
    "outputId": "95ce5078-d8bc-4399-9ea6-7bface3d827a"
   },
   "outputs": [
    {
     "data": {
      "text/plain": [
       "0    29720\n",
       "1     2242\n",
       "Name: label, dtype: int64"
      ]
     },
     "execution_count": 18,
     "metadata": {},
     "output_type": "execute_result"
    }
   ],
   "source": [
    "# Наблюдается большой дисбаланс классов. В связи с малым количеством объектов класса 1, для валидации оставим небольшую часть данных (15%)\n",
    "x_train, x_test, y_train, y_test = train_test_split(df_x, df_y, shuffle=True, test_size=0.15, stratify=df_y, random_state=1)\n",
    "df['label'].value_counts()"
   ]
  },
  {
   "cell_type": "code",
   "execution_count": null,
   "metadata": {
    "colab": {
     "base_uri": "https://localhost:8080/",
     "height": 449
    },
    "id": "Z54oxsPjJxB1",
    "outputId": "e5aaa11d-1c35-4593-9eb9-66253c892a31"
   },
   "outputs": [
    {
     "data": {
      "image/png": "[encoded data removed]",
      "text/plain": [
       "<Figure size 640x480 with 1 Axes>"
      ]
     },
     "metadata": {},
     "output_type": "display_data"
    }
   ],
   "source": [
    "# Проанализируем количество слов в твитах, чтобы выявить оптимальную длину кодировки сообщений\n",
    "temp = pd.DataFrame({'source':x_train})\n",
    "temp.loc[:, 'lenght'] = temp['source'].apply(lambda item: len(list(word_tokenize(item))))\n",
    "temp['lenght'].hist(bins=30, ec='black')\n",
    "plt.xlabel('Количество слов в твите')\n",
    "plt.ylabel('Количество твитов')\n",
    "plt.show()"
   ]
  },
  {
   "cell_type": "code",
   "execution_count": null,
   "metadata": {
    "colab": {
     "base_uri": "https://localhost:8080/"
    },
    "id": "9X08lDnZKq1v",
    "outputId": "00f1cc2f-eda6-4ed3-bd9b-d7b1d1df5708"
   },
   "outputs": [
    {
     "name": "stdout",
     "output_type": "stream",
     "text": [
      "Максимальное количество слов в твите: 121\n",
      "Количество твитов с количеством слов > 40: 19\n"
     ]
    }
   ],
   "source": [
    "print(f\"Максимальное количество слов в твите: {temp['lenght'].max()}\")\n",
    "print(f\"Количество твитов с количеством слов > 40: {temp[temp['lenght'] >= 40].shape[0]}\")"
   ]
  },
  {
   "cell_type": "markdown",
   "metadata": {
    "id": "_l7L2PZFK08Y"
   },
   "source": [
    "###### Вывод:\n",
    "Максимальное количество слов в сообщениях - 121, что сильно нагружает ПК. Т.к. количество твитов, превышающих 40 символов, всего 19, то установлю макисмальное количество символов твита равным 40. Оставшиеся 19 твитов из обработки не убираю - для них твит будет кодироваться символами, соответствующими первым 40 словам.\n",
    "Таким образом, каждый твит будет закодирован последовательностью из 40 элементов."
   ]
  },
  {
   "cell_type": "code",
   "execution_count": null,
   "metadata": {
    "id": "AjV2JOUVjuGc"
   },
   "outputs": [],
   "source": [
    "stopwords = get_stop_words('en')\n",
    "stopwords.append(\"'s\")\n",
    "symbols = list(set(punctuation))\n",
    "lemmatizer = WordNetLemmatizer()"
   ]
  },
  {
   "cell_type": "markdown",
   "metadata": {},
   "source": [
    "##### 4. Создание класса датасета"
   ]
  },
  {
   "cell_type": "markdown",
   "metadata": {
    "id": "7hX-Y-0Ah0Ox"
   },
   "source": [
    "Предобработка данных происходит во время инициализации датасета. В предобработку входит:\n",
    "1. Генерация общего словаря пар слово-номер для дальнейшей кодировки предложений из n самых популярных символов.\n",
    "2. Токенизация предложений.\n",
    "3. Удаление стоп-слов (слов без особой смысловой нагрузки), знаков пунктуации.\n",
    "4. Лемматизация слов-токенов.\n",
    "5. Кодировка предложений последовательностью номеров с заменой \"незначащих\" слов нулями (их нет в словаре)"
   ]
  },
  {
   "cell_type": "code",
   "execution_count": null,
   "metadata": {
    "id": "ebDZJ6NWRFZY"
   },
   "outputs": [],
   "source": [
    "class TwitDataset(Dataset):\n",
    "    def __init__(self, x:pd.Series, y:pd.Series, device, punctuation_symbols, stop_words, lemmatizer, vocabulary = None, max_vocabulary_size=2500, max_tweet_size = 40):\n",
    "        x = x.apply(lambda message: message.lower())\n",
    "        self.device = device\n",
    "        self.punctuation_symbols = punctuation_symbols\n",
    "        self.stop_words = stop_words\n",
    "        self.lemmatizer = lemmatizer\n",
    "        self.max_twit_size = max_tweet_size\n",
    "\n",
    "        if vocabulary == None:\n",
    "            self.vocabulary = self.__set_dictionary(x, max_size=max_vocabulary_size)\n",
    "        else:\n",
    "            self.vocabulary = vocabulary\n",
    "\n",
    "        self.x = pd.DataFrame({'source': x.tolist()})\n",
    "        self.x.loc[:, 'sequence'] = self.x['source'].apply(lambda item: self.__parse_text_to_sequence(item))\n",
    "        self.y = y\n",
    "\n",
    "    # parse message to limmatized list without using vocabulary\n",
    "    def parse_text_to_lemmatized_dict(self, text:str):\n",
    "        # make tokens from words\n",
    "        tokens = word_tokenize(text)\n",
    "\n",
    "        # drop unuseful words: punctuation and etc.\n",
    "        tokens_filtered = [el for el in tokens if el.isalnum()]\n",
    "        df = pd.DataFrame({'words':tokens_filtered})\n",
    "\n",
    "        # drop all punctuation symbols\n",
    "        df = df[~df['words'].isin(self.punctuation_symbols)]\n",
    "\n",
    "        # drop all stopwords\n",
    "        df = df[~df['words'].isin(self.stop_words)]\n",
    "\n",
    "        # make lemmatization\n",
    "        df.loc[:, 'words_lemmatized'] = df['words'].apply(lambda x: self.lemmatizer.lemmatize(x))\n",
    "        tokens_filtered = df['words_lemmatized'].tolist()\n",
    "        return tokens_filtered\n",
    "\n",
    "\n",
    "    # develop vocabulary for lemmatized_word - key_number relationships\n",
    "    def __set_dictionary(self, messages:pd.Series, max_size=2500):\n",
    "        # parse twits to one big common twit-message\n",
    "        all_messages = ''\n",
    "        for el in messages.tolist():\n",
    "            all_messages = f'{all_messages} {el}'\n",
    "\n",
    "        # create lemmatized, stop-words and punctuations-dropped massive\n",
    "        tokens_filtered = self.parse_text_to_lemmatized_dict(all_messages)\n",
    "\n",
    "        # create frequancy-orientated massive from tokens for most popular words\n",
    "        tokens_filtered = FreqDist(tokens_filtered)\n",
    "        tokens_filtered_top = [pair[0] for pair in tokens_filtered.most_common(max_size-1)]\n",
    "\n",
    "        # create common vocabulary for all messages in dataset (x_train+x_test)\n",
    "        vocabulary = {v: k for k, v in dict(enumerate(tokens_filtered_top, 1)).items()}\n",
    "        return vocabulary\n",
    "\n",
    "\n",
    "    # parse message to sequence using vocabulary\n",
    "    def __parse_text_to_sequence(self, message:str):\n",
    "        # create lemmatized, stop-words and punctuations-dropped massive\n",
    "        tokens_filtered = self.parse_text_to_lemmatized_dict(message)\n",
    "\n",
    "        # create sequence using global vocabulary\n",
    "        parsed_text = [self.vocabulary[word] if word in self.vocabulary.keys() else 0 for word in tokens_filtered]\n",
    "\n",
    "        # fill places for unexisted words with zeroes\n",
    "        while len(parsed_text) < self.max_twit_size:\n",
    "            parsed_text.append(0)\n",
    "        return parsed_text[:self.max_twit_size]\n",
    "\n",
    "\n",
    "    # return sample`s count\n",
    "    def __len__(self):\n",
    "        return self.x.shape[0]\n",
    "\n",
    "\n",
    "    # return sample by index\n",
    "    def __getitem__(self, index):\n",
    "        x = self.x['sequence'].iloc[index]\n",
    "        y = self.y.iloc[index]\n",
    "        return torch.IntTensor(x).to(self.device), torch.IntTensor([y]).to(self.device)\n",
    "\n",
    "\n",
    "train_dataset = TwitDataset(x_train, y_train, device, symbols, stopwords, lemmatizer)\n",
    "test_dataset = TwitDataset(x_test, y_test, device, symbols, stopwords, lemmatizer, vocabulary=train_dataset.vocabulary)"
   ]
  },
  {
   "cell_type": "code",
   "execution_count": null,
   "metadata": {
    "colab": {
     "base_uri": "https://localhost:8080/"
    },
    "id": "bgp08j3UJThd",
    "outputId": "b6ee5e64-51a4-42a3-8b4a-d46ae63cc9fd"
   },
   "outputs": [
    {
     "name": "stdout",
     "output_type": "stream",
     "text": [
      "(tensor([  1, 127,  92, 254, 542,   4,   0,   0,   0,   0,   0,   0,   0,   0,\n",
      "          0,   0,   0,   0,   0,   0,   0,   0,   0,   0,   0,   0,   0,   0,\n",
      "          0,   0,   0,   0,   0,   0,   0,   0,   0,   0,   0,   0],\n",
      "       device='cuda:0', dtype=torch.int32), tensor([0], device='cuda:0', dtype=torch.int32))\n",
      "-----------\n",
      "source       @user old guy off for some sleep  be #safe &a...\n",
      "sequence    [1, 127, 92, 254, 542, 4, 0, 0, 0, 0, 0, 0, 0,...\n",
      "Name: 500, dtype: object\n"
     ]
    }
   ],
   "source": [
    "# Демонстрация получемых данных из Датасета:\n",
    "idx = 500\n",
    "print(test_dataset.__getitem__(idx))\n",
    "print('-----------')\n",
    "print(test_dataset.x.iloc[idx])"
   ]
  },
  {
   "cell_type": "markdown",
   "metadata": {},
   "source": [
    "##### 5. Создание класса DataLoader"
   ]
  },
  {
   "cell_type": "code",
   "execution_count": null,
   "metadata": {
    "id": "NDqt0tE_SAG2"
   },
   "outputs": [],
   "source": [
    "train_loader = DataLoader(train_dataset, batch_size=64, shuffle=True)\n",
    "test_loader = DataLoader(test_dataset, batch_size=test_dataset.__len__(), shuffle=False)"
   ]
  },
  {
   "cell_type": "markdown",
   "metadata": {
    "id": "bS_hoO0xSYrg"
   },
   "source": [
    "##### 6. Создание класса нейросети"
   ]
  },
  {
   "cell_type": "code",
   "execution_count": null,
   "metadata": {
    "id": "FNrKNykYSYLh"
   },
   "outputs": [],
   "source": [
    "class LSTM_Net(nn.Module):\n",
    "    def __init__(self, vocab_size=2500, embedding_dim=256, hidden_dim=32, num_classes=1):\n",
    "        super().__init__()\n",
    "        self.embedding = nn.Embedding(vocab_size, embedding_dim)\n",
    "        self.dropout = nn.Dropout(0.3)\n",
    "        self.lstm = nn.LSTM(embedding_dim, hidden_dim, batch_first=True, num_layers=3)\n",
    "        self.linear = nn.Linear(hidden_dim, num_classes)\n",
    "\n",
    "    def forward(self, x):\n",
    "        x = self.embedding(x)\n",
    "        x = self.dropout(x)\n",
    "        out_pack, (hn, ct) = self.lstm(x)\n",
    "        x = self.linear(hn[-1])\n",
    "        x = F.sigmoid(x)\n",
    "        return x"
   ]
  },
  {
   "cell_type": "markdown",
   "metadata": {},
   "source": [
    "##### 7. Обучение нейросети"
   ]
  },
  {
   "cell_type": "code",
   "execution_count": null,
   "metadata": {
    "colab": {
     "base_uri": "https://localhost:8080/"
    },
    "id": "Xe1hSgPpoPmv",
    "outputId": "76b94975-2bb6-473f-da8d-ae0695fad764"
   },
   "outputs": [
    {
     "name": "stdout",
     "output_type": "stream",
     "text": [
      "Epoch [0/500]. Step [425/425]. Train Loss: 0.321009.\n",
      "Test precision: 0.000, Test recall: 0.000, Test Roc-Auc: 0.500\n",
      "\n",
      "Epoch [100/500]. Step [425/425]. Train Loss: 0.070284.\n",
      "Test precision: 0.656, Test recall: 0.613, Test Roc-Auc: 0.794\n",
      "\n",
      "Epoch [200/500]. Step [425/425]. Train Loss: 0.003779.\n",
      "Test precision: 0.708, Test recall: 0.598, Test Roc-Auc: 0.790\n",
      "\n",
      "Epoch [300/500]. Step [425/425]. Train Loss: 0.006653.\n",
      "Test precision: 0.681, Test recall: 0.616, Test Roc-Auc: 0.797\n",
      "\n",
      "Epoch [400/500]. Step [425/425]. Train Loss: 0.001342.\n",
      "Test precision: 0.700, Test recall: 0.604, Test Roc-Auc: 0.792\n",
      "\n",
      "Epoch [500/500]. Step [425/425]. Train Loss: 0.000168.\n",
      "Test precision: 0.707, Test recall: 0.604, Test Roc-Auc: 0.793\n",
      "\n",
      "Training is finished!\n"
     ]
    }
   ],
   "source": [
    "model = LSTM_Net()\n",
    "optimizer = torch.optim.Adam(model.parameters(), lr=0.0001)\n",
    "criterion = nn.BCELoss()\n",
    "\n",
    "model = model.to(device)\n",
    "model.train()\n",
    "th = 0.5\n",
    "\n",
    "epochs = 500\n",
    "\n",
    "for epoch in range(epochs + 1):\n",
    "    for i, data in enumerate(train_loader, 0):\n",
    "        inputs, labels = data[0], data[1]\n",
    "\n",
    "        # обнуляем градиент\n",
    "        optimizer.zero_grad()\n",
    "        outputs = model(inputs)\n",
    "\n",
    "        loss = criterion(outputs, labels.float().view(-1, 1))\n",
    "        loss.backward()\n",
    "        optimizer.step()\n",
    "\n",
    "        # подсчет ошибки на обучении\n",
    "        loss = loss.item()\n",
    "        # подсчет метрики на обучении\n",
    "        pred_labels = torch.squeeze((outputs > th).int())\n",
    "\n",
    "    if epoch % 100 == 0:\n",
    "        # выводим статистику о процессе обучения\n",
    "        model.eval()\n",
    "\n",
    "        print(f'Epoch [{epoch}/{epochs}]. ' \\\n",
    "              f'Step [{i + 1}/{len(train_loader)}]. ' \\\n",
    "              f'Train Loss: {loss:.6f}.')\n",
    "\n",
    "        # выводим статистику на тестовых данных\n",
    "        for j, data in enumerate(test_loader):\n",
    "            test_labels = data[1]\n",
    "            test_outputs = model(data[0])\n",
    "\n",
    "            # подсчет метрики на тесте\n",
    "            test_labels =  test_labels.cpu().detach().numpy()\n",
    "            test_outputs = test_outputs.cpu().detach().numpy()\n",
    "            test_outputs[test_outputs<th] = 0\n",
    "            test_outputs[test_outputs>=th] = 1\n",
    "            pr, rc, auc = precision_score(test_labels, test_outputs), recall_score(test_labels, test_outputs), roc_auc_score(test_labels, test_outputs)\n",
    "            print(f\"Test precision: {pr:.3f}, Test recall: {rc:.3f}, Test Roc-Auc: {auc:.3f}\\n\")\n",
    "        model.train()\n",
    "\n",
    "print('Training is finished!')"
   ]
  },
  {
   "cell_type": "markdown",
   "metadata": {
    "id": "-AZ4XYgDMiNC"
   },
   "source": [
    "##### 8. Промежуточный вывод:\n",
    "Анлизируя тестовые метрики, видно, что модель после 500 эпохи начинает \"упираться\" в потолок. Можно попробовать изменить архитектуру сети / гиперпараметры с целью улучшения качества модели:"
   ]
  },
  {
   "cell_type": "code",
   "execution_count": null,
   "metadata": {
    "id": "Me10TLOxJ-U8"
   },
   "outputs": [],
   "source": [
    "class GRU_Net(nn.Module):\n",
    "    def __init__(self, vocab_size=2500, embedding_dim=256, hidden_dim=32, num_classes=1):\n",
    "        super().__init__()\n",
    "        self.embedding = nn.Embedding(vocab_size, embedding_dim)\n",
    "        self.dropout = nn.Dropout(0.3)\n",
    "        self.gru = nn.GRU(embedding_dim, hidden_dim, batch_first=True, num_layers=3)\n",
    "        self.linear = nn.Linear(hidden_dim, num_classes)\n",
    "\n",
    "    def forward(self, x):\n",
    "        x = self.embedding(x)\n",
    "        x = self.dropout(x)\n",
    "        out_pack, hn = self.gru(x)\n",
    "        x = self.linear(hn[-1])\n",
    "        x = F.sigmoid(x)\n",
    "        return x"
   ]
  },
  {
   "cell_type": "code",
   "execution_count": null,
   "metadata": {
    "colab": {
     "base_uri": "https://localhost:8080/"
    },
    "id": "ZE_WmkOUKCYb",
    "outputId": "bf246e53-a30a-4103-f9f1-b89884bda1d3"
   },
   "outputs": [
    {
     "name": "stdout",
     "output_type": "stream",
     "text": [
      "Epoch [0/500]. Step [425/425]. Train Loss: 0.321378.\n",
      "Test precision: 0.000, Test recall: 0.000, Test Roc-Auc: 0.500\n",
      "\n",
      "Epoch [100/500]. Step [425/425]. Train Loss: 0.096359.\n",
      "Test precision: 0.712, Test recall: 0.619, Test Roc-Auc: 0.800\n",
      "\n",
      "Epoch [200/500]. Step [425/425]. Train Loss: 0.038113.\n",
      "Test precision: 0.680, Test recall: 0.652, Test Roc-Auc: 0.814\n",
      "\n",
      "Epoch [300/500]. Step [425/425]. Train Loss: 0.002538.\n",
      "Test precision: 0.718, Test recall: 0.628, Test Roc-Auc: 0.805\n",
      "\n",
      "Epoch [400/500]. Step [425/425]. Train Loss: 0.000502.\n",
      "Test precision: 0.726, Test recall: 0.622, Test Roc-Auc: 0.802\n",
      "\n",
      "Epoch [500/500]. Step [425/425]. Train Loss: 0.001612.\n",
      "Test precision: 0.746, Test recall: 0.622, Test Roc-Auc: 0.803\n",
      "\n",
      "Training is finished!\n"
     ]
    }
   ],
   "source": [
    "model = GRU_Net()\n",
    "optimizer = torch.optim.Adam(model.parameters(), lr=0.0001)\n",
    "criterion = nn.BCELoss()\n",
    "\n",
    "model = model.to(device)\n",
    "model.train()\n",
    "th = 0.5\n",
    "\n",
    "epochs = 500\n",
    "\n",
    "for epoch in range(epochs + 1):\n",
    "    for i, data in enumerate(train_loader, 0):\n",
    "        inputs, labels = data[0], data[1]\n",
    "\n",
    "        # обнуляем градиент\n",
    "        optimizer.zero_grad()\n",
    "        outputs = model(inputs)\n",
    "\n",
    "        loss = criterion(outputs, labels.float().view(-1, 1))\n",
    "        loss.backward()\n",
    "        optimizer.step()\n",
    "\n",
    "        # подсчет ошибки на обучении\n",
    "        loss = loss.item()\n",
    "        # подсчет метрики на обучении\n",
    "        pred_labels = torch.squeeze((outputs > th).int())\n",
    "\n",
    "    if epoch % 100 == 0:\n",
    "        # выводим статистику о процессе обучения\n",
    "        model.eval()\n",
    "\n",
    "        print(f'Epoch [{epoch}/{epochs}]. ' \\\n",
    "              f'Step [{i + 1}/{len(train_loader)}]. ' \\\n",
    "              f'Train Loss: {loss:.6f}.')\n",
    "\n",
    "        # выводим статистику на тестовых данных\n",
    "        for j, data in enumerate(test_loader):\n",
    "            test_labels = data[1]\n",
    "            test_outputs = model(data[0])\n",
    "\n",
    "            # подсчет метрики на тесте\n",
    "            test_labels =  test_labels.cpu().detach().numpy()\n",
    "            test_outputs = test_outputs.cpu().detach().numpy()\n",
    "            test_outputs[test_outputs<th] = 0\n",
    "            test_outputs[test_outputs>=th] = 1\n",
    "            pr, rc, auc = precision_score(test_labels, test_outputs), recall_score(test_labels, test_outputs), roc_auc_score(test_labels, test_outputs)\n",
    "            print(f\"Test precision: {pr:.3f}, Test recall: {rc:.3f}, Test Roc-Auc: {auc:.3f}\\n\")\n",
    "\n",
    "        model.train()\n",
    "\n",
    "print('Training is finished!')"
   ]
  },
  {
   "cell_type": "markdown",
   "metadata": {
    "id": "ar51VnKAjEPm"
   },
   "source": [
    "##### 9. Промежуточный вывод:\n",
    "Анлизируя тестовые метрики, видно, что модель после 500 эпохи начинает \"упираться\" в потолок. Однако архитектура GRU показала себя лучше, чем LSTM"
   ]
  },
  {
   "cell_type": "markdown",
   "metadata": {
    "id": "fqMmGUQwgE-T"
   },
   "source": [
    "##### 10. Вывод:\n",
    "Как видно, в процессе обучение продолжает улучшаться precision 1го класса при незначительных изменениях recall и roc-auc. Безлайн решения - примерно 7%, качество полученного решения - примерно 60% (f1-мера), что лучше почти в 10 раз.\n",
    "\n",
    "Примечательно, что и LSTM, и GRU показывают приблизительно одинаковое качество. Однако GRU в силу своей архитектуры обучается быстрее - в дальнейшем следовало бы отдать предпочтение именно GRU.\n",
    "\n",
    "##### 11. Потенциальные работы по улучшению качества модели:\n",
    "1. Продолжение обучения текущей сети.\n",
    "2. Подбор порога отсечки класса 1 и 0 (threshold)\n",
    "3. Изменение количества слов в словаре\n",
    "4. Изменение количества слов в предложении\n",
    "4. В данном прримере \"незначащие\" слова были заменены нулями. Можно попробовать вместо это очистить предложение от \"незначащих слов\".\n",
    "5. Изменение архитектуры сети\n",
    "6. Изменение оптимизатора"
   ]
  }
 ],
 "metadata": {
  "accelerator": "GPU",
  "colab": {
   "provenance": []
  },
  "kernelspec": {
   "display_name": "Python 3 (ipykernel)",
   "language": "python",
   "name": "python3"
  },
  "language_info": {
   "codemirror_mode": {
    "name": "ipython",
    "version": 3
   },
   "file_extension": ".py",
   "mimetype": "text/x-python",
   "name": "python",
   "nbconvert_exporter": "python",
   "pygments_lexer": "ipython3",
   "version": "3.9.12"
  }
 },
 "nbformat": 4,
 "nbformat_minor": 1
}
