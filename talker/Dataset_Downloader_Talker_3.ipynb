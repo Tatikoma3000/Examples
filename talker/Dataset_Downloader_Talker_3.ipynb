{
 "cells": [
  {
   "cell_type": "markdown",
   "id": "a68c532b",
   "metadata": {},
   "source": [
    "### Процедура загрузки датасета и сохранения его на диск"
   ]
  },
  {
   "cell_type": "code",
   "execution_count": 1,
   "id": "aa45d224",
   "metadata": {},
   "outputs": [],
   "source": [
    "from datasets import load_dataset\n",
    "import pandas as pd"
   ]
  },
  {
   "cell_type": "code",
   "execution_count": 2,
   "id": "36c442f8",
   "metadata": {},
   "outputs": [],
   "source": [
    "dataset = load_dataset(\"zjkarina/matreshka\")"
   ]
  },
  {
   "cell_type": "code",
   "execution_count": 3,
   "id": "be4c9d0c",
   "metadata": {},
   "outputs": [],
   "source": [
    "df_train = pd.DataFrame()\n",
    "for el in ['role', 'dialog', 'persona', 'summary']:\n",
    "    df_train[el] = dataset['train'][el]"
   ]
  },
  {
   "cell_type": "code",
   "execution_count": 4,
   "id": "2e91b257",
   "metadata": {},
   "outputs": [],
   "source": [
    "df_val = pd.DataFrame()\n",
    "for el in ['role', 'dialog', 'persona', 'summary']:\n",
    "    df_val[el] = dataset['validation'][el]"
   ]
  },
  {
   "cell_type": "code",
   "execution_count": 5,
   "id": "66cc1b4a",
   "metadata": {},
   "outputs": [],
   "source": [
    "df = pd.concat([df_train, df_val], axis=0, ignore_index=True)"
   ]
  },
  {
   "cell_type": "code",
   "execution_count": 6,
   "id": "b833b684",
   "metadata": {},
   "outputs": [],
   "source": [
    "df = df['dialog']"
   ]
  },
  {
   "cell_type": "code",
   "execution_count": 7,
   "id": "1cf45a6c",
   "metadata": {},
   "outputs": [],
   "source": [
    "df = df[~df.isnull()]"
   ]
  },
  {
   "cell_type": "code",
   "execution_count": 9,
   "id": "74f61334",
   "metadata": {},
   "outputs": [],
   "source": [
    "result = pd.DataFrame({'question':[], 'answer':[]})\n",
    "for idx in df.index:\n",
    "    for i in range(2):\n",
    "        try:\n",
    "            temp = pd.DataFrame({'question':[df.loc[idx][i]], 'answer':[df.loc[idx][i+1]]})\n",
    "            result = pd.concat([result, temp], axis=0, ignore_index=True)\n",
    "        except:\n",
    "            continue"
   ]
  },
  {
   "cell_type": "code",
   "execution_count": 10,
   "id": "ea1556dd",
   "metadata": {},
   "outputs": [
    {
     "data": {
      "text/html": [
       "<div>\n",
       "<style scoped>\n",
       "    .dataframe tbody tr th:only-of-type {\n",
       "        vertical-align: middle;\n",
       "    }\n",
       "\n",
       "    .dataframe tbody tr th {\n",
       "        vertical-align: top;\n",
       "    }\n",
       "\n",
       "    .dataframe thead th {\n",
       "        text-align: right;\n",
       "    }\n",
       "</style>\n",
       "<table border=\"1\" class=\"dataframe\">\n",
       "  <thead>\n",
       "    <tr style=\"text-align: right;\">\n",
       "      <th></th>\n",
       "      <th>question</th>\n",
       "      <th>answer</th>\n",
       "    </tr>\n",
       "  </thead>\n",
       "  <tbody>\n",
       "    <tr>\n",
       "      <th>0</th>\n",
       "      <td>Какое место в мире ты хочешь посетить?</td>\n",
       "      <td>Я мечтаю о поездке в Японию. А ты?</td>\n",
       "    </tr>\n",
       "    <tr>\n",
       "      <th>1</th>\n",
       "      <td>Я мечтаю о поездке в Японию. А ты?</td>\n",
       "      <td>Мне всегда хотелось посетить Италию, особенно ...</td>\n",
       "    </tr>\n",
       "    <tr>\n",
       "      <th>2</th>\n",
       "      <td>Как твое настроение сегодня?</td>\n",
       "      <td>Привет! Как дела?</td>\n",
       "    </tr>\n",
       "    <tr>\n",
       "      <th>3</th>\n",
       "      <td>Привет! Как дела?</td>\n",
       "      <td>Мое настроение сегодня нормальное, а у тебя?</td>\n",
       "    </tr>\n",
       "    <tr>\n",
       "      <th>4</th>\n",
       "      <td>Привет! Как дела?</td>\n",
       "      <td>Привет! У меня все хорошо, а у тебя?</td>\n",
       "    </tr>\n",
       "    <tr>\n",
       "      <th>...</th>\n",
       "      <td>...</td>\n",
       "      <td>...</td>\n",
       "    </tr>\n",
       "    <tr>\n",
       "      <th>16614</th>\n",
       "      <td>Привет, у меня все хорошо. А у тебя?</td>\n",
       "      <td>Тоже неплохо. Ты знал, что столица Японии - То...</td>\n",
       "    </tr>\n",
       "    <tr>\n",
       "      <th>16615</th>\n",
       "      <td>Привет!</td>\n",
       "      <td>Здравствуйте, как я могу Вам помочь?</td>\n",
       "    </tr>\n",
       "    <tr>\n",
       "      <th>16616</th>\n",
       "      <td>Здравствуйте, как я могу Вам помочь?</td>\n",
       "      <td>Я хочу узнать факты о пандемии COVID-19</td>\n",
       "    </tr>\n",
       "    <tr>\n",
       "      <th>16617</th>\n",
       "      <td>В России насчитывается более 19000 озер</td>\n",
       "      <td>Озеро Байкал является самым глубоким озером в ...</td>\n",
       "    </tr>\n",
       "    <tr>\n",
       "      <th>16618</th>\n",
       "      <td>Озеро Байкал является самым глубоким озером в ...</td>\n",
       "      <td>В России находится самая высокая гора Европы -...</td>\n",
       "    </tr>\n",
       "  </tbody>\n",
       "</table>\n",
       "<p>16619 rows × 2 columns</p>\n",
       "</div>"
      ],
      "text/plain": [
       "                                                question  \\\n",
       "0                 Какое место в мире ты хочешь посетить?   \n",
       "1                     Я мечтаю о поездке в Японию. А ты?   \n",
       "2                           Как твое настроение сегодня?   \n",
       "3                                      Привет! Как дела?   \n",
       "4                                      Привет! Как дела?   \n",
       "...                                                  ...   \n",
       "16614               Привет, у меня все хорошо. А у тебя?   \n",
       "16615                                            Привет!   \n",
       "16616               Здравствуйте, как я могу Вам помочь?   \n",
       "16617            В России насчитывается более 19000 озер   \n",
       "16618  Озеро Байкал является самым глубоким озером в ...   \n",
       "\n",
       "                                                  answer  \n",
       "0                     Я мечтаю о поездке в Японию. А ты?  \n",
       "1      Мне всегда хотелось посетить Италию, особенно ...  \n",
       "2                                      Привет! Как дела?  \n",
       "3           Мое настроение сегодня нормальное, а у тебя?  \n",
       "4                   Привет! У меня все хорошо, а у тебя?  \n",
       "...                                                  ...  \n",
       "16614  Тоже неплохо. Ты знал, что столица Японии - То...  \n",
       "16615               Здравствуйте, как я могу Вам помочь?  \n",
       "16616            Я хочу узнать факты о пандемии COVID-19  \n",
       "16617  Озеро Байкал является самым глубоким озером в ...  \n",
       "16618  В России находится самая высокая гора Европы -...  \n",
       "\n",
       "[16619 rows x 2 columns]"
      ]
     },
     "execution_count": 10,
     "metadata": {},
     "output_type": "execute_result"
    }
   ],
   "source": [
    "result"
   ]
  },
  {
   "cell_type": "code",
   "execution_count": null,
   "id": "303248f5",
   "metadata": {},
   "outputs": [],
   "source": [
    "result.to_csv(r'D:\\Chat-bot\\talker\\talker_3.csv', encoding='utf-8', sep='\\t')"
   ]
  },
  {
   "cell_type": "code",
   "execution_count": null,
   "id": "516baf3b",
   "metadata": {},
   "outputs": [],
   "source": []
  }
 ],
 "metadata": {
  "kernelspec": {
   "display_name": "Python 3 (ipykernel)",
   "language": "python",
   "name": "python3"
  },
  "language_info": {
   "codemirror_mode": {
    "name": "ipython",
    "version": 3
   },
   "file_extension": ".py",
   "mimetype": "text/x-python",
   "name": "python",
   "nbconvert_exporter": "python",
   "pygments_lexer": "ipython3",
   "version": "3.9.12"
  }
 },
 "nbformat": 4,
 "nbformat_minor": 5
}
