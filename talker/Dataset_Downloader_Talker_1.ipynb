{
 "cells": [
  {
   "cell_type": "markdown",
   "id": "089dedaa",
   "metadata": {},
   "source": [
    "### Процедура загрузки датасета и сохранения его на диск"
   ]
  },
  {
   "cell_type": "code",
   "execution_count": 1,
   "id": "58b9efc0",
   "metadata": {},
   "outputs": [],
   "source": [
    "from datasets import load_dataset\n",
    "import pandas as pd\n",
    "from tqdm import tqdm"
   ]
  },
  {
   "cell_type": "code",
   "execution_count": 2,
   "id": "dbe51f5d",
   "metadata": {},
   "outputs": [],
   "source": [
    "tqdm.pandas()"
   ]
  },
  {
   "cell_type": "code",
   "execution_count": 3,
   "id": "a76e2d90",
   "metadata": {},
   "outputs": [],
   "source": [
    "dataset = load_dataset(\"inkoziev/incomplete_utterance_restoration\")"
   ]
  },
  {
   "cell_type": "code",
   "execution_count": 4,
   "id": "e2a3be7a",
   "metadata": {},
   "outputs": [
    {
     "data": {
      "text/html": [
       "<div>\n",
       "<style scoped>\n",
       "    .dataframe tbody tr th:only-of-type {\n",
       "        vertical-align: middle;\n",
       "    }\n",
       "\n",
       "    .dataframe tbody tr th {\n",
       "        vertical-align: top;\n",
       "    }\n",
       "\n",
       "    .dataframe thead th {\n",
       "        text-align: right;\n",
       "    }\n",
       "</style>\n",
       "<table border=\"1\" class=\"dataframe\">\n",
       "  <thead>\n",
       "    <tr style=\"text-align: right;\">\n",
       "      <th></th>\n",
       "      <th>expanded_phrase</th>\n",
       "      <th>context</th>\n",
       "      <th>short_phrase</th>\n",
       "    </tr>\n",
       "  </thead>\n",
       "  <tbody>\n",
       "    <tr>\n",
       "      <th>0</th>\n",
       "      <td>я учусь в восьмом классе</td>\n",
       "      <td>[ты в каком классе учишься?]</td>\n",
       "      <td>В восьмом</td>\n",
       "    </tr>\n",
       "    <tr>\n",
       "      <th>1</th>\n",
       "      <td>я считаю себя изучателем</td>\n",
       "      <td>[Что-то зрителей полный инет, а изучителей не ...</td>\n",
       "      <td>изучателем</td>\n",
       "    </tr>\n",
       "    <tr>\n",
       "      <th>2</th>\n",
       "      <td>План не сложен</td>\n",
       "      <td>[План сложен?]</td>\n",
       "      <td>нет</td>\n",
       "    </tr>\n",
       "    <tr>\n",
       "      <th>3</th>\n",
       "      <td>я неплохо поживаю</td>\n",
       "      <td>[как ты поживаешь, семики?]</td>\n",
       "      <td>неплохо, вячеслав</td>\n",
       "    </tr>\n",
       "    <tr>\n",
       "      <th>4</th>\n",
       "      <td>Смертен ли Гиппарх?</td>\n",
       "      <td>[Здрасьте!]</td>\n",
       "      <td>Смертен ли Гиппарх?</td>\n",
       "    </tr>\n",
       "    <tr>\n",
       "      <th>...</th>\n",
       "      <td>...</td>\n",
       "      <td>...</td>\n",
       "      <td>...</td>\n",
       "    </tr>\n",
       "    <tr>\n",
       "      <th>123925</th>\n",
       "      <td>Египет проиграл</td>\n",
       "      <td>[Кто проиграл?]</td>\n",
       "      <td>Египет</td>\n",
       "    </tr>\n",
       "    <tr>\n",
       "      <th>123926</th>\n",
       "      <td>меня зовут Билл</td>\n",
       "      <td>[как тебя зовут?]</td>\n",
       "      <td>Билл</td>\n",
       "    </tr>\n",
       "    <tr>\n",
       "      <th>123927</th>\n",
       "      <td>кировцы встают</td>\n",
       "      <td>[кто встает?]</td>\n",
       "      <td>кировцы</td>\n",
       "    </tr>\n",
       "    <tr>\n",
       "      <th>123928</th>\n",
       "      <td>продолжения нет</td>\n",
       "      <td>[ну так что с продолжением?]</td>\n",
       "      <td>нету</td>\n",
       "    </tr>\n",
       "    <tr>\n",
       "      <th>123929</th>\n",
       "      <td>начало есть в рассказе</td>\n",
       "      <td>[есть где начало?]</td>\n",
       "      <td>в рассказе</td>\n",
       "    </tr>\n",
       "  </tbody>\n",
       "</table>\n",
       "<p>123930 rows × 3 columns</p>\n",
       "</div>"
      ],
      "text/plain": [
       "                 expanded_phrase  \\\n",
       "0       я учусь в восьмом классе   \n",
       "1       я считаю себя изучателем   \n",
       "2                 План не сложен   \n",
       "3              я неплохо поживаю   \n",
       "4            Смертен ли Гиппарх?   \n",
       "...                          ...   \n",
       "123925           Египет проиграл   \n",
       "123926           меня зовут Билл   \n",
       "123927            кировцы встают   \n",
       "123928           продолжения нет   \n",
       "123929    начало есть в рассказе   \n",
       "\n",
       "                                                  context         short_phrase  \n",
       "0                            [ты в каком классе учишься?]            В восьмом  \n",
       "1       [Что-то зрителей полный инет, а изучителей не ...           изучателем  \n",
       "2                                          [План сложен?]                  нет  \n",
       "3                             [как ты поживаешь, семики?]    неплохо, вячеслав  \n",
       "4                                             [Здрасьте!]  Смертен ли Гиппарх?  \n",
       "...                                                   ...                  ...  \n",
       "123925                                    [Кто проиграл?]               Египет  \n",
       "123926                                  [как тебя зовут?]                 Билл  \n",
       "123927                                      [кто встает?]              кировцы  \n",
       "123928                       [ну так что с продолжением?]                 нету  \n",
       "123929                                 [есть где начало?]           в рассказе  \n",
       "\n",
       "[123930 rows x 3 columns]"
      ]
     },
     "execution_count": 4,
     "metadata": {},
     "output_type": "execute_result"
    }
   ],
   "source": [
    "df = pd.DataFrame()\n",
    "for el in 'expanded_phrase', 'context', 'short_phrase':\n",
    "    df[el] = dataset['train'][el]\n",
    "df"
   ]
  },
  {
   "cell_type": "code",
   "execution_count": 5,
   "id": "ecf8d91f",
   "metadata": {},
   "outputs": [
    {
     "name": "stderr",
     "output_type": "stream",
     "text": [
      "100%|██████████| 123930/123930 [00:00<00:00, 999079.52it/s]\n"
     ]
    }
   ],
   "source": [
    "df['context'] = df['context'].progress_apply(lambda x: x[0].replace('[', '').replace(']', ''))"
   ]
  },
  {
   "cell_type": "code",
   "execution_count": 8,
   "id": "520c7d94",
   "metadata": {},
   "outputs": [],
   "source": [
    "df.to_csv(r'D:\\Chat-bot\\talker\\talker.csv', sep='\\t', encoding='utf-8')"
   ]
  },
  {
   "cell_type": "code",
   "execution_count": null,
   "id": "74fe9601",
   "metadata": {},
   "outputs": [],
   "source": []
  }
 ],
 "metadata": {
  "kernelspec": {
   "display_name": "Python 3 (ipykernel)",
   "language": "python",
   "name": "python3"
  },
  "language_info": {
   "codemirror_mode": {
    "name": "ipython",
    "version": 3
   },
   "file_extension": ".py",
   "mimetype": "text/x-python",
   "name": "python",
   "nbconvert_exporter": "python",
   "pygments_lexer": "ipython3",
   "version": "3.9.12"
  }
 },
 "nbformat": 4,
 "nbformat_minor": 5
}
