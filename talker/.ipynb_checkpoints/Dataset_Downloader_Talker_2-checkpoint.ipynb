{
 "cells": [
  {
   "cell_type": "markdown",
   "id": "88380cb8",
   "metadata": {},
   "source": [
    "### Процедура загрузки датасета и сохранения его на диск"
   ]
  },
  {
   "cell_type": "code",
   "execution_count": 2,
   "id": "5d099064",
   "metadata": {},
   "outputs": [],
   "source": [
    "import pandas as pd\n",
    "from datasets import load_dataset"
   ]
  },
  {
   "cell_type": "code",
   "execution_count": 3,
   "id": "67e71875",
   "metadata": {},
   "outputs": [
    {
     "data": {
      "application/vnd.jupyter.widget-view+json": {
       "model_id": "47c0c5b0e13445e8b8e13779749d5eb3",
       "version_major": 2,
       "version_minor": 0
      },
      "text/plain": [
       "Downloading readme:   0%|          | 0.00/1.86k [00:00<?, ?B/s]"
      ]
     },
     "metadata": {},
     "output_type": "display_data"
    },
    {
     "data": {
      "application/vnd.jupyter.widget-view+json": {
       "model_id": "e90f9edb35244b1b857e45722c053a66",
       "version_major": 2,
       "version_minor": 0
      },
      "text/plain": [
       "Downloading data:   0%|          | 0.00/233M [00:00<?, ?B/s]"
      ]
     },
     "metadata": {},
     "output_type": "display_data"
    },
    {
     "data": {
      "application/vnd.jupyter.widget-view+json": {
       "model_id": "be9f84e63aec4813bb6fd1670a7a60be",
       "version_major": 2,
       "version_minor": 0
      },
      "text/plain": [
       "Generating train split: 0 examples [00:00, ? examples/s]"
      ]
     },
     "metadata": {},
     "output_type": "display_data"
    }
   ],
   "source": [
    "dataset = load_dataset(\"Den4ikAI/russian_instructions_2\")"
   ]
  },
  {
   "cell_type": "code",
   "execution_count": 8,
   "id": "e7a0d145",
   "metadata": {},
   "outputs": [
    {
     "data": {
      "text/html": [
       "<div>\n",
       "<style scoped>\n",
       "    .dataframe tbody tr th:only-of-type {\n",
       "        vertical-align: middle;\n",
       "    }\n",
       "\n",
       "    .dataframe tbody tr th {\n",
       "        vertical-align: top;\n",
       "    }\n",
       "\n",
       "    .dataframe thead th {\n",
       "        text-align: right;\n",
       "    }\n",
       "</style>\n",
       "<table border=\"1\" class=\"dataframe\">\n",
       "  <thead>\n",
       "    <tr style=\"text-align: right;\">\n",
       "      <th></th>\n",
       "      <th>question</th>\n",
       "      <th>answer</th>\n",
       "    </tr>\n",
       "  </thead>\n",
       "  <tbody>\n",
       "    <tr>\n",
       "      <th>0</th>\n",
       "      <td>Есть ли информация о предстоящих ярмарках вака...</td>\n",
       "      <td>В ближайшем районе пройдет несколько ярмарок в...</td>\n",
       "    </tr>\n",
       "    <tr>\n",
       "      <th>1</th>\n",
       "      <td>Как повысить кредитный рейтинг?</td>\n",
       "      <td>Лучший способ улучшить свой кредитный рейтинг ...</td>\n",
       "    </tr>\n",
       "  </tbody>\n",
       "</table>\n",
       "</div>"
      ],
      "text/plain": [
       "                                            question  \\\n",
       "0  Есть ли информация о предстоящих ярмарках вака...   \n",
       "1                    Как повысить кредитный рейтинг?   \n",
       "\n",
       "                                              answer  \n",
       "0  В ближайшем районе пройдет несколько ярмарок в...  \n",
       "1  Лучший способ улучшить свой кредитный рейтинг ...  "
      ]
     },
     "execution_count": 8,
     "metadata": {},
     "output_type": "execute_result"
    }
   ],
   "source": [
    "df = pd.DataFrame()\n",
    "for column in ['question', 'answer']:\n",
    "    df[column] = dataset['train'][column]\n",
    "df.head(2)"
   ]
  },
  {
   "cell_type": "code",
   "execution_count": 9,
   "id": "b4d6fe98",
   "metadata": {},
   "outputs": [
    {
     "data": {
      "text/html": [
       "<div>\n",
       "<style scoped>\n",
       "    .dataframe tbody tr th:only-of-type {\n",
       "        vertical-align: middle;\n",
       "    }\n",
       "\n",
       "    .dataframe tbody tr th {\n",
       "        vertical-align: top;\n",
       "    }\n",
       "\n",
       "    .dataframe thead th {\n",
       "        text-align: right;\n",
       "    }\n",
       "</style>\n",
       "<table border=\"1\" class=\"dataframe\">\n",
       "  <thead>\n",
       "    <tr style=\"text-align: right;\">\n",
       "      <th></th>\n",
       "      <th>question</th>\n",
       "      <th>answer</th>\n",
       "    </tr>\n",
       "  </thead>\n",
       "  <tbody>\n",
       "    <tr>\n",
       "      <th>0</th>\n",
       "      <td>Есть ли информация о предстоящих ярмарках вака...</td>\n",
       "      <td>В ближайшем районе пройдет несколько ярмарок в...</td>\n",
       "    </tr>\n",
       "    <tr>\n",
       "      <th>1</th>\n",
       "      <td>Как повысить кредитный рейтинг?</td>\n",
       "      <td>Лучший способ улучшить свой кредитный рейтинг ...</td>\n",
       "    </tr>\n",
       "    <tr>\n",
       "      <th>2</th>\n",
       "      <td>Я слышал, что некоторые люди используют сайт в...</td>\n",
       "      <td>Я не слышал об этом, но похоже, что это может ...</td>\n",
       "    </tr>\n",
       "    <tr>\n",
       "      <th>3</th>\n",
       "      <td>Как узнать, созрел фрукт или нет?</td>\n",
       "      <td>Вы можете проверить цвет кожи и текстуру. Спел...</td>\n",
       "    </tr>\n",
       "    <tr>\n",
       "      <th>4</th>\n",
       "      <td>Что важно знать о естественном здоровье?</td>\n",
       "      <td>1. Важность сбалансированной диеты, богатой фр...</td>\n",
       "    </tr>\n",
       "    <tr>\n",
       "      <th>...</th>\n",
       "      <td>...</td>\n",
       "      <td>...</td>\n",
       "    </tr>\n",
       "    <tr>\n",
       "      <th>237276</th>\n",
       "      <td>Как лучше всего заработать на Quora?</td>\n",
       "      <td>Лучший способ заработать на Quora — это отвеча...</td>\n",
       "    </tr>\n",
       "    <tr>\n",
       "      <th>237277</th>\n",
       "      <td>Игровые движки Меня интересуют игровые движки,...</td>\n",
       "      <td>В попытке сохранить ELI5 игровой движок похож ...</td>\n",
       "    </tr>\n",
       "    <tr>\n",
       "      <th>237278</th>\n",
       "      <td>Какие пять самых популярных дебютов в шахматах?</td>\n",
       "      <td>1. е4\\n2. d4\\n3. с4\\n4. Кf3\\n5. g3</td>\n",
       "    </tr>\n",
       "    <tr>\n",
       "      <th>237279</th>\n",
       "      <td>Сгенерируйте для меня описание патриотической ...</td>\n",
       "      <td>Этот участок туннеля в недавнем прошлом привле...</td>\n",
       "    </tr>\n",
       "    <tr>\n",
       "      <th>237280</th>\n",
       "      <td>У меня в подвале много старых книг. Что я могу...</td>\n",
       "      <td>Вы можете подарить их местной библиотеке или к...</td>\n",
       "    </tr>\n",
       "  </tbody>\n",
       "</table>\n",
       "<p>237281 rows × 2 columns</p>\n",
       "</div>"
      ],
      "text/plain": [
       "                                                 question  \\\n",
       "0       Есть ли информация о предстоящих ярмарках вака...   \n",
       "1                         Как повысить кредитный рейтинг?   \n",
       "2       Я слышал, что некоторые люди используют сайт в...   \n",
       "3                       Как узнать, созрел фрукт или нет?   \n",
       "4                Что важно знать о естественном здоровье?   \n",
       "...                                                   ...   \n",
       "237276               Как лучше всего заработать на Quora?   \n",
       "237277  Игровые движки Меня интересуют игровые движки,...   \n",
       "237278    Какие пять самых популярных дебютов в шахматах?   \n",
       "237279  Сгенерируйте для меня описание патриотической ...   \n",
       "237280  У меня в подвале много старых книг. Что я могу...   \n",
       "\n",
       "                                                   answer  \n",
       "0       В ближайшем районе пройдет несколько ярмарок в...  \n",
       "1       Лучший способ улучшить свой кредитный рейтинг ...  \n",
       "2       Я не слышал об этом, но похоже, что это может ...  \n",
       "3       Вы можете проверить цвет кожи и текстуру. Спел...  \n",
       "4       1. Важность сбалансированной диеты, богатой фр...  \n",
       "...                                                   ...  \n",
       "237276  Лучший способ заработать на Quora — это отвеча...  \n",
       "237277  В попытке сохранить ELI5 игровой движок похож ...  \n",
       "237278                 1. е4\\n2. d4\\n3. с4\\n4. Кf3\\n5. g3  \n",
       "237279  Этот участок туннеля в недавнем прошлом привле...  \n",
       "237280  Вы можете подарить их местной библиотеке или к...  \n",
       "\n",
       "[237281 rows x 2 columns]"
      ]
     },
     "execution_count": 9,
     "metadata": {},
     "output_type": "execute_result"
    }
   ],
   "source": [
    "df"
   ]
  },
  {
   "cell_type": "code",
   "execution_count": 10,
   "id": "13356d79",
   "metadata": {},
   "outputs": [],
   "source": [
    "df.to_csv(r'D:\\Chat-bot\\talker\\talker_2.csv', sep='\\t', encoding='utf-8')"
   ]
  },
  {
   "cell_type": "code",
   "execution_count": null,
   "id": "3e30e635",
   "metadata": {},
   "outputs": [],
   "source": []
  }
 ],
 "metadata": {
  "kernelspec": {
   "display_name": "Python 3 (ipykernel)",
   "language": "python",
   "name": "python3"
  },
  "language_info": {
   "codemirror_mode": {
    "name": "ipython",
    "version": 3
   },
   "file_extension": ".py",
   "mimetype": "text/x-python",
   "name": "python",
   "nbconvert_exporter": "python",
   "pygments_lexer": "ipython3",
   "version": "3.9.12"
  }
 },
 "nbformat": 4,
 "nbformat_minor": 5
}
