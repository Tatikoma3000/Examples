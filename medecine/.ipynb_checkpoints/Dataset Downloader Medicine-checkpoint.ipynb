{
 "cells": [
  {
   "cell_type": "markdown",
   "id": "4c473f16",
   "metadata": {},
   "source": [
    "### Загрузчик датасета с медецинскими вопросами-ответами"
   ]
  },
  {
   "cell_type": "code",
   "execution_count": 1,
   "id": "f7bfe686",
   "metadata": {},
   "outputs": [],
   "source": [
    "from datasets import load_dataset\n",
    "import pandas as pd"
   ]
  },
  {
   "cell_type": "code",
   "execution_count": 2,
   "id": "c4f10501",
   "metadata": {},
   "outputs": [
    {
     "data": {
      "application/vnd.jupyter.widget-view+json": {
       "model_id": "c65950e020944927bec1d4bdb7d34cb0",
       "version_major": 2,
       "version_minor": 0
      },
      "text/plain": [
       "Downloading data:   0%|          | 0.00/132M [00:00<?, ?B/s]"
      ]
     },
     "metadata": {},
     "output_type": "display_data"
    },
    {
     "data": {
      "application/vnd.jupyter.widget-view+json": {
       "model_id": "99750fbf152046aebba5ab96c47aba78",
       "version_major": 2,
       "version_minor": 0
      },
      "text/plain": [
       "Generating train split:   0%|          | 0/190335 [00:00<?, ? examples/s]"
      ]
     },
     "metadata": {},
     "output_type": "display_data"
    }
   ],
   "source": [
    "dataset = load_dataset(\"blinoff/medical_qa_ru_data\")"
   ]
  },
  {
   "cell_type": "code",
   "execution_count": 12,
   "id": "2dafdd18",
   "metadata": {},
   "outputs": [],
   "source": [
    "df = pd.DataFrame()\n",
    "for column in ['date', 'categ', 'theme', 'desc', 'ans', 'spec10']:\n",
    "    df[column] = dataset['train'][column]"
   ]
  },
  {
   "cell_type": "code",
   "execution_count": 14,
   "id": "4372d68f",
   "metadata": {},
   "outputs": [],
   "source": [
    "df.to_csv(r'D:\\Chat-bot\\medecine\\df.csv', sep='\\t', encoding='utf-8')"
   ]
  },
  {
   "cell_type": "code",
   "execution_count": null,
   "id": "9b615c88",
   "metadata": {},
   "outputs": [],
   "source": []
  }
 ],
 "metadata": {
  "kernelspec": {
   "display_name": "Python 3 (ipykernel)",
   "language": "python",
   "name": "python3"
  },
  "language_info": {
   "codemirror_mode": {
    "name": "ipython",
    "version": 3
   },
   "file_extension": ".py",
   "mimetype": "text/x-python",
   "name": "python",
   "nbconvert_exporter": "python",
   "pygments_lexer": "ipython3",
   "version": "3.9.12"
  }
 },
 "nbformat": 4,
 "nbformat_minor": 5
}
