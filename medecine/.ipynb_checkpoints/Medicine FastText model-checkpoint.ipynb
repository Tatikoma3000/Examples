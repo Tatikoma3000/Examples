{
 "cells": [
  {
   "cell_type": "markdown",
   "id": "9897c3e1",
   "metadata": {},
   "source": [
    "### Создание модели FastText для поиска наиболее релевантной шутки к введенному пользователем запросу"
   ]
  },
  {
   "cell_type": "markdown",
   "id": "4dee5655",
   "metadata": {},
   "source": [
    "##### 1. Импорт библиотек"
   ]
  },
  {
   "cell_type": "code",
   "execution_count": 1,
   "id": "d0ffa016",
   "metadata": {},
   "outputs": [
    {
     "name": "stderr",
     "output_type": "stream",
     "text": [
      "C:\\Users\\lazar\\anaconda3\\lib\\site-packages\\scipy\\__init__.py:146: UserWarning: A NumPy version >=1.16.5 and <1.23.0 is required for this version of SciPy (detected version 1.25.0\n",
      "  warnings.warn(f\"A NumPy version >={np_minversion} and <{np_maxversion}\"\n"
     ]
    }
   ],
   "source": [
    "import pandas as pd\n",
    "import string\n",
    "import emoji\n",
    "import re\n",
    "from tqdm import tqdm\n",
    "from stop_words import get_stop_words\n",
    "import razdel\n",
    "import nltk\n",
    "from pymorphy2 import MorphAnalyzer\n",
    "from gensim.models import FastText\n",
    "import numpy as np\n",
    "import random\n",
    "import string\n",
    "import dill\n",
    "tqdm.pandas()"
   ]
  },
  {
   "cell_type": "markdown",
   "id": "b4ed45b3",
   "metadata": {},
   "source": [
    "##### 2. Подготовка к препроцессингу датасета"
   ]
  },
  {
   "cell_type": "code",
   "execution_count": 2,
   "id": "afc8b86f",
   "metadata": {},
   "outputs": [],
   "source": [
    "# Чтение датафрейма\n",
    "df = pd.read_csv(r'D:\\Chat-bot\\medecine\\df.csv', sep='\\t', encoding='utf-8')\n",
    "df.drop(columns=['Unnamed: 0', 'date', 'spec10'], inplace=True)"
   ]
  },
  {
   "cell_type": "code",
   "execution_count": 3,
   "id": "0e3b5667",
   "metadata": {},
   "outputs": [
    {
     "name": "stderr",
     "output_type": "stream",
     "text": [
      "100%|██████████| 190335/190335 [00:04<00:00, 40270.27it/s]\n"
     ]
    }
   ],
   "source": [
    "df['desc'] = df.progress_apply(lambda x: f\"{x['desc']} {x['theme']} {x['categ']}\", axis=1)"
   ]
  },
  {
   "cell_type": "code",
   "execution_count": 4,
   "id": "197fe661",
   "metadata": {},
   "outputs": [],
   "source": [
    "df.drop(columns=['categ', 'theme'], inplace=True)\n",
    "df.rename(columns={'desc':'question', 'ans':'answer'}, inplace=True)"
   ]
  },
  {
   "cell_type": "code",
   "execution_count": 9,
   "id": "6e330650",
   "metadata": {},
   "outputs": [],
   "source": [
    "# Размерность вектора эмбеддингов для слов\n",
    "embedding_dim=128"
   ]
  },
  {
   "cell_type": "code",
   "execution_count": 2,
   "id": "b2a8552c",
   "metadata": {},
   "outputs": [
    {
     "data": {
      "text/plain": [
       "'!\"#$%&\\'()*+,-./:;<=>?@[\\\\]^_`{|}~'"
      ]
     },
     "execution_count": 2,
     "metadata": {},
     "output_type": "execute_result"
    }
   ],
   "source": [
    "# Импорт знаков пунктуации для препроцессинга\n",
    "punctuations = string.punctuation\n",
    "punctuations"
   ]
  },
  {
   "cell_type": "code",
   "execution_count": 3,
   "id": "9e10e35a",
   "metadata": {},
   "outputs": [
    {
     "name": "stdout",
     "output_type": "stream",
     "text": [
      "Всего найдено 422 стоп-слов\n"
     ]
    }
   ],
   "source": [
    "# Импорт Стоп-слов\n",
    "stop_words = get_stop_words('ru')\n",
    "stops = nltk.corpus.stopwords.words('russian')\n",
    "stop_words.extend(stops)\n",
    "stop_words = list(set(stop_words))\n",
    "print(f'Всего найдено {len(stop_words)} стоп-слов')"
   ]
  },
  {
   "cell_type": "code",
   "execution_count": 4,
   "id": "d0668f62",
   "metadata": {},
   "outputs": [],
   "source": [
    "morph_analyzer = MorphAnalyzer()"
   ]
  },
  {
   "cell_type": "code",
   "execution_count": 9,
   "id": "142d6251",
   "metadata": {},
   "outputs": [
    {
     "data": {
      "text/html": [
       "<div>\n",
       "<style scoped>\n",
       "    .dataframe tbody tr th:only-of-type {\n",
       "        vertical-align: middle;\n",
       "    }\n",
       "\n",
       "    .dataframe tbody tr th {\n",
       "        vertical-align: top;\n",
       "    }\n",
       "\n",
       "    .dataframe thead th {\n",
       "        text-align: right;\n",
       "    }\n",
       "</style>\n",
       "<table border=\"1\" class=\"dataframe\">\n",
       "  <thead>\n",
       "    <tr style=\"text-align: right;\">\n",
       "      <th></th>\n",
       "      <th>question</th>\n",
       "      <th>answer</th>\n",
       "    </tr>\n",
       "  </thead>\n",
       "  <tbody>\n",
       "    <tr>\n",
       "      <th>0</th>\n",
       "      <td>Ларипронт 20 талеток,через каждые 2-3 часа.Оче...</td>\n",
       "      <td>Что вы им лечите? Длительность приема Ларипрон...</td>\n",
       "    </tr>\n",
       "    <tr>\n",
       "      <th>1</th>\n",
       "      <td>Здравствуйте, я на 7-8 неделе беременности. С ...</td>\n",
       "      <td>Здравствуйте, это может быть признаком раннего...</td>\n",
       "    </tr>\n",
       "    <tr>\n",
       "      <th>2</th>\n",
       "      <td>Здравствуйте месячные должны придти 23 марта в...</td>\n",
       "      <td>Выполните исследование хгч</td>\n",
       "    </tr>\n",
       "    <tr>\n",
       "      <th>3</th>\n",
       "      <td>Завтра иду с утра сдавать кровь ТТГ, Т4СВ, Кал...</td>\n",
       "      <td>Можно.;\\nЗдравствуйте , да, попейте сладкого ч...</td>\n",
       "    </tr>\n",
       "    <tr>\n",
       "      <th>4</th>\n",
       "      <td>Мне прописали пить Аллохол. Врач написала пить...</td>\n",
       "      <td>Препарат принимается после еды. Уточните это  ...</td>\n",
       "    </tr>\n",
       "    <tr>\n",
       "      <th>...</th>\n",
       "      <td>...</td>\n",
       "      <td>...</td>\n",
       "    </tr>\n",
       "    <tr>\n",
       "      <th>190330</th>\n",
       "      <td>Здравствуйте! В глаз отлетел кусок пластмассы,...</td>\n",
       "      <td>Ромашка есть дома, альбуцид;\\nМожно промыть лю...</td>\n",
       "    </tr>\n",
       "    <tr>\n",
       "      <th>190331</th>\n",
       "      <td>nan здравствуйте скажите пожалуста где я могу ...</td>\n",
       "      <td>В \"консультанте\"</td>\n",
       "    </tr>\n",
       "    <tr>\n",
       "      <th>190332</th>\n",
       "      <td>Здравствуйте, три дня назад порезала палец  бу...</td>\n",
       "      <td>Здравствуйте , пока обработать Хлоргексидином ...</td>\n",
       "    </tr>\n",
       "    <tr>\n",
       "      <th>190333</th>\n",
       "      <td>nan Эндокринолог прописал пить сиофор 500 при ...</td>\n",
       "      <td>Такие препараты принимаются постоянно;\\nЗдравс...</td>\n",
       "    </tr>\n",
       "    <tr>\n",
       "      <th>190334</th>\n",
       "      <td>Здравствуйте! Проходила по работе плановую ком...</td>\n",
       "      <td>Здравствуйте,могли капли в нос Полидекса повли...</td>\n",
       "    </tr>\n",
       "  </tbody>\n",
       "</table>\n",
       "<p>187764 rows × 2 columns</p>\n",
       "</div>"
      ],
      "text/plain": [
       "                                                 question  \\\n",
       "0       Ларипронт 20 талеток,через каждые 2-3 часа.Оче...   \n",
       "1       Здравствуйте, я на 7-8 неделе беременности. С ...   \n",
       "2       Здравствуйте месячные должны придти 23 марта в...   \n",
       "3       Завтра иду с утра сдавать кровь ТТГ, Т4СВ, Кал...   \n",
       "4       Мне прописали пить Аллохол. Врач написала пить...   \n",
       "...                                                   ...   \n",
       "190330  Здравствуйте! В глаз отлетел кусок пластмассы,...   \n",
       "190331  nan здравствуйте скажите пожалуста где я могу ...   \n",
       "190332  Здравствуйте, три дня назад порезала палец  бу...   \n",
       "190333  nan Эндокринолог прописал пить сиофор 500 при ...   \n",
       "190334  Здравствуйте! Проходила по работе плановую ком...   \n",
       "\n",
       "                                                   answer  \n",
       "0       Что вы им лечите? Длительность приема Ларипрон...  \n",
       "1       Здравствуйте, это может быть признаком раннего...  \n",
       "2                              Выполните исследование хгч  \n",
       "3       Можно.;\\nЗдравствуйте , да, попейте сладкого ч...  \n",
       "4       Препарат принимается после еды. Уточните это  ...  \n",
       "...                                                   ...  \n",
       "190330  Ромашка есть дома, альбуцид;\\nМожно промыть лю...  \n",
       "190331                                   В \"консультанте\"  \n",
       "190332  Здравствуйте , пока обработать Хлоргексидином ...  \n",
       "190333  Такие препараты принимаются постоянно;\\nЗдравс...  \n",
       "190334  Здравствуйте,могли капли в нос Полидекса повли...  \n",
       "\n",
       "[187764 rows x 2 columns]"
      ]
     },
     "execution_count": 9,
     "metadata": {},
     "output_type": "execute_result"
    }
   ],
   "source": [
    "df = df[df['question'].notnull()]\n",
    "df = df[df['answer'].notnull()]\n",
    "df"
   ]
  },
  {
   "cell_type": "markdown",
   "id": "0d4e7e5e",
   "metadata": {},
   "source": [
    "##### 3. Препроцессинг: удаление знаков пунктуаций, эмоджи, чисел и т.д."
   ]
  },
  {
   "cell_type": "code",
   "execution_count": 5,
   "id": "c5d9ad48",
   "metadata": {},
   "outputs": [],
   "source": [
    "def preprocess_text(text:str, punctuations=punctuations, stop_words=stop_words, morph=morph_analyzer):\n",
    "    \n",
    "    text = str(text)\n",
    "    text = text.lower()                 # Изменяем регистр на нижний\n",
    "    \n",
    "    # Замена пунктуации пробелами:\n",
    "    for el in string.punctuation:\n",
    "        text = text.replace(el, ' ')\n",
    "    \n",
    "#    # Замена специальных символов на пробелы\n",
    "#    text = re.sub(r'[^a-Za-Z0-9]', ' ', text)\n",
    "#    print(text)\n",
    "\n",
    "    # Удаляем эмоджи из текста\n",
    "    emoji_pattern = re.compile(\"[\"\n",
    "        u\"\\U0001F600-\\U0001F64F\"  # emoticons\n",
    "        u\"\\U0001F300-\\U0001F5FF\"  # symbols & pictographs\n",
    "        u\"\\U0001F680-\\U0001F6FF\"  # transport & map symbols\n",
    "        u\"\\U0001F1E0-\\U0001F1FF\"  # flags (iOS)\n",
    "                           \"]+\", flags=re.UNICODE)\n",
    "    text = emoji_pattern.sub(r'a', text)\n",
    "    \n",
    "    # Сличение частицы \"не\" с глаголом\n",
    "    text = re.sub(r'не ', r'не', text)\n",
    "\n",
    "    # Замена чисел на пробелы\n",
    "    text = re.sub(r'\\d+', ' ', text)\n",
    "   \n",
    "    # Удаляем слова длиной в 1 символ\n",
    "    # Удаляем слова из словаря стоп-слов\n",
    "    # Получаем нормальную форму слова\n",
    "    text = ' '.join([morph.parse(w)[0].normal_form for w in text.split() if len(w)>1 and w not in stop_words])\n",
    "  \n",
    "    return text"
   ]
  },
  {
   "cell_type": "code",
   "execution_count": 11,
   "id": "d8b8e708",
   "metadata": {},
   "outputs": [
    {
     "name": "stderr",
     "output_type": "stream",
     "text": [
      "100%|██████████| 187764/187764 [25:11<00:00, 124.23it/s]\n"
     ]
    }
   ],
   "source": [
    "# Препроцессинг\n",
    "df['question_preprocessed'] = df['question'].progress_apply(lambda x: preprocess_text(x))"
   ]
  },
  {
   "cell_type": "code",
   "execution_count": 12,
   "id": "c126441c",
   "metadata": {},
   "outputs": [
    {
     "name": "stderr",
     "output_type": "stream",
     "text": [
      "100%|██████████| 187764/187764 [00:49<00:00, 3759.00it/s]\n"
     ]
    }
   ],
   "source": [
    "# Токенезация\n",
    "df['question_tokenized'] = df['question_preprocessed'].progress_apply(lambda x: [_.text for _ in  list(razdel.tokenize(x))])"
   ]
  },
  {
   "cell_type": "code",
   "execution_count": 13,
   "id": "5a1cd086",
   "metadata": {},
   "outputs": [
    {
     "data": {
      "text/plain": [
       "1559"
      ]
     },
     "execution_count": 13,
     "metadata": {},
     "output_type": "execute_result"
    }
   ],
   "source": [
    "# Максимальное количество значимых токенов в предложении\n",
    "df['количество токенов'] = df['question_tokenized'].apply(lambda x: len(x))\n",
    "df['количество токенов'].max()"
   ]
  },
  {
   "cell_type": "code",
   "execution_count": 14,
   "id": "40cf976b",
   "metadata": {},
   "outputs": [
    {
     "data": {
      "text/plain": [
       "(187763, 5)"
      ]
     },
     "execution_count": 14,
     "metadata": {},
     "output_type": "execute_result"
    }
   ],
   "source": [
    "# Удаление предложений с количеством значимых токенов = 0\n",
    "df = df[df['количество токенов'] > 0]\n",
    "df.reset_index(drop=True, inplace=True)\n",
    "df.shape"
   ]
  },
  {
   "cell_type": "code",
   "execution_count": 15,
   "id": "d191e8a2",
   "metadata": {},
   "outputs": [],
   "source": [
    "sentences = [el for el in df[df['количество токенов'] > 1]['question_tokenized'].values.tolist()]"
   ]
  },
  {
   "cell_type": "markdown",
   "id": "9cb8704d",
   "metadata": {},
   "source": [
    "##### 4. Сохранение подготовленного датасета на диск"
   ]
  },
  {
   "cell_type": "code",
   "execution_count": 16,
   "id": "a2337e88",
   "metadata": {},
   "outputs": [],
   "source": [
    "with open(r'D:\\Chat-bot\\medecine\\df_preprocessed.dill', 'wb') as f:\n",
    "    dill.dump(df, f)"
   ]
  },
  {
   "cell_type": "code",
   "execution_count": 6,
   "id": "fdc18aa6",
   "metadata": {},
   "outputs": [],
   "source": [
    "with open(r'D:\\Chat-bot\\medecine\\df_preprocessed.dill', 'rb') as f:\n",
    "    df = dill.load(f)"
   ]
  },
  {
   "cell_type": "markdown",
   "id": "c3e1fb6b",
   "metadata": {},
   "source": [
    "##### 5. Обучение модели FastText. Сохранение обученной модели на диск"
   ]
  },
  {
   "cell_type": "code",
   "execution_count": null,
   "id": "9fd6589a",
   "metadata": {},
   "outputs": [],
   "source": [
    "model = FastText(sentences=sentences, vector_size=embedding_dim, window=5, min_count=3)  # instantiate\n",
    "#model.build_vocab(corpus_iterable=df['question_tokenized'].values.tolist())\n",
    "model.train(corpus_iterable=df[df['количество токенов'] > 1]['question_tokenized'].values.tolist(), total_examples=df.shape[0], epochs=10)  # train"
   ]
  },
  {
   "cell_type": "code",
   "execution_count": null,
   "id": "3c208112",
   "metadata": {},
   "outputs": [],
   "source": [
    "model.save(r'D:\\Chat-bot\\medecine\\fastetx_model_1.fst')"
   ]
  },
  {
   "cell_type": "markdown",
   "id": "4ef4f341",
   "metadata": {},
   "source": [
    "##### 6. Получение эмбеддинга запроса пользователя. Получение наиболее релевантного ответа"
   ]
  },
  {
   "cell_type": "code",
   "execution_count": 7,
   "id": "fdf0818c",
   "metadata": {},
   "outputs": [],
   "source": [
    "model = FastText.load(r'D:\\Chat-bot\\medecine\\fastetx_model_1.fst')"
   ]
  },
  {
   "cell_type": "code",
   "execution_count": 10,
   "id": "5187ad92",
   "metadata": {},
   "outputs": [
    {
     "name": "stderr",
     "output_type": "stream",
     "text": [
      "100%|██████████| 187763/187763 [00:36<00:00, 5166.72it/s]\n"
     ]
    }
   ],
   "source": [
    "def words_to_embeddings(mas:list):\n",
    "    vector = np.zeros(embedding_dim)\n",
    "    i = 0\n",
    "    for word in mas:\n",
    "        i += 1\n",
    "        vector += model.wv[word]\n",
    "    return vector/i\n",
    "        \n",
    "df['sentence_embeddings'] = df['question_tokenized'].progress_apply(lambda x: words_to_embeddings(x))"
   ]
  },
  {
   "cell_type": "code",
   "execution_count": 11,
   "id": "ad86e0d9",
   "metadata": {},
   "outputs": [],
   "source": [
    "def compute_distance_between_vectors(i, j):\n",
    "    dot_product = np.dot(i, j)\n",
    "    magnitude1 = np.linalg.norm(i)\n",
    "    magnitude2 = np.linalg.norm(j)\n",
    "    angle = np.arccos(dot_product / (magnitude1 * magnitude2))\n",
    "    return angle"
   ]
  },
  {
   "cell_type": "code",
   "execution_count": 13,
   "id": "b3d12a7d",
   "metadata": {},
   "outputs": [
    {
     "name": "stderr",
     "output_type": "stream",
     "text": [
      "100%|██████████| 187763/187763 [00:02<00:00, 69739.13it/s]"
     ]
    },
    {
     "name": "stdout",
     "output_type": "stream",
     "text": [
      "Найденные наиболее подходящие ответы:\n",
      "1. Больше месяца был кашель, оказался хрон фарингитит. Щас уже его нет практически вылечил кашель\n",
      "2. Здравствуйте,я думаю,что боли связаны с патологией позвоночника или невралгией межреберной, лёгкие не болят.\n",
      "3. Где боли, опишите их локализацию, характер.\n",
      "4. Область грудной клетки - понятие обширное,опишите локализацию поточнее.\n",
      "5. Возможно имеет место миозит межреберных мышц или остеохондроз грудного отдела позвоночника,для дифференциации причины болей покажитесь терапевту.\n"
     ]
    },
    {
     "name": "stderr",
     "output_type": "stream",
     "text": [
      "\n"
     ]
    }
   ],
   "source": [
    "text = 'Острая боль в грудной клетке'\n",
    "text=preprocess_text(text)\n",
    "text = [_.text for _ in list(razdel.tokenize(text))]\n",
    "text = words_to_embeddings(text)\n",
    "answer_counts = 5\n",
    "\n",
    "stop_aswers = ['?', 'пользователь', 'спасибо']\n",
    "\n",
    "answer_counts -=1\n",
    "computing = df['sentence_embeddings'].progress_apply(lambda x: compute_distance_between_vectors(x, text))\n",
    "indexes = computing.sort_values(ascending=True).head(5).index.tolist()\n",
    "random.shuffle(indexes)\n",
    "reply = 'Найденные наиболее подходящие ответы:\\n'\n",
    "counter = 0\n",
    "for ind in indexes:\n",
    "    cur_answer = df.loc[ind, 'answer']\n",
    "    bad_answer = False\n",
    "    for answer in cur_answer.split(';\\n'):\n",
    "        for el in stop_aswers:\n",
    "            if el in answer.lower():\n",
    "                bad_answer = True\n",
    "                break\n",
    "        if not bad_answer:\n",
    "            counter += 1\n",
    "            reply += f\"{counter}. {answer}\\n\"\n",
    "            if counter > answer_counts:\n",
    "                reply = reply[:-1]\n",
    "                print(reply)\n",
    "                break\n",
    "    if counter > answer_counts:\n",
    "        break\n",
    "if counter <= answer_counts:\n",
    "    print(reply)\n"
   ]
  },
  {
   "cell_type": "code",
   "execution_count": null,
   "id": "c894d4c8",
   "metadata": {},
   "outputs": [],
   "source": []
  }
 ],
 "metadata": {
  "kernelspec": {
   "display_name": "Python 3 (ipykernel)",
   "language": "python",
   "name": "python3"
  },
  "language_info": {
   "codemirror_mode": {
    "name": "ipython",
    "version": 3
   },
   "file_extension": ".py",
   "mimetype": "text/x-python",
   "name": "python",
   "nbconvert_exporter": "python",
   "pygments_lexer": "ipython3",
   "version": "3.9.12"
  }
 },
 "nbformat": 4,
 "nbformat_minor": 5
}
